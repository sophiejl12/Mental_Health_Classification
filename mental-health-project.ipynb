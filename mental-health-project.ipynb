{
 "cells": [
  {
   "cell_type": "markdown",
   "id": "3efe4a42",
   "metadata": {
    "papermill": {
     "duration": 0.009881,
     "end_time": "2023-07-26T13:40:14.821385",
     "exception": false,
     "start_time": "2023-07-26T13:40:14.811504",
     "status": "completed"
    },
    "tags": []
   },
   "source": [
    "**Introduction:** \n",
    "\n",
    "People use online forms as outlets of expression, and as a result it is important to identify when responses on media outlets correlate to poor mental health. Models that use text data from media outlets can be used to detect signs of mental health issues early, and can therefore encourage earlier intervention. This project aims to make mental health data more accessible and easy to interpret so that more people can acquire help when needed. \n",
    "\n",
    "**Objectives:**\n",
    "1. Clean and preprocess a dataset with subreddits that provide insight to a person's mental health\n",
    "2. Construct graphs to illustrate the distribution of responses\n",
    "3. Conduct sentiment analysis \n",
    "4. Train a Naive Bayes model and a Logistic Regression model to predict if peoples' responses indicate mental illnesses.\n",
    "\n",
    "**Results and Conclusion:**\n",
    "\n",
    "Sentiment analysis revealed that among responses that indicate poor mental health, positive, negative, and neutral sentiments were present, with a slight majority being negative. Among responses that indicate normal mental health, the majority were positive. Our Naive Bayes predictive model achieved an accuracy of 84.5%. Our logistic regression model achieved an accuracy of 91.7%. Both models were successful in predicting mental health quality with solely subreddit data, which is a simple method to identify mental health issues early. Responses from other forms of social media, conversations, or other outlets of expression can also be utilized to identify poor mental health.\n",
    "\n",
    "**Acknowledgements:**\n",
    "\n",
    "Dataset: https://www.kaggle.com/datasets/reihanenamdari/mental-health-corpus \n",
    "\n",
    "Contributors: Sophie Lawrence, Ria Trivedi, Ashley Victor (mentor)"
   ]
  },
  {
   "cell_type": "code",
   "execution_count": 1,
   "id": "0644c062",
   "metadata": {
    "execution": {
     "iopub.execute_input": "2023-07-26T13:40:14.842454Z",
     "iopub.status.busy": "2023-07-26T13:40:14.841855Z",
     "iopub.status.idle": "2023-07-26T13:40:16.866633Z",
     "shell.execute_reply": "2023-07-26T13:40:16.865135Z"
    },
    "papermill": {
     "duration": 2.038095,
     "end_time": "2023-07-26T13:40:16.869132",
     "exception": false,
     "start_time": "2023-07-26T13:40:14.831037",
     "status": "completed"
    },
    "tags": []
   },
   "outputs": [
    {
     "name": "stderr",
     "output_type": "stream",
     "text": [
      "/opt/conda/lib/python3.10/site-packages/scipy/__init__.py:146: UserWarning: A NumPy version >=1.16.5 and <1.23.0 is required for this version of SciPy (detected version 1.23.5\n",
      "  warnings.warn(f\"A NumPy version >={np_minversion} and <{np_maxversion}\"\n"
     ]
    },
    {
     "name": "stdout",
     "output_type": "stream",
     "text": [
      "[nltk_data] Downloading package stopwords to /usr/share/nltk_data...\n",
      "[nltk_data]   Package stopwords is already up-to-date!\n",
      "[nltk_data] Downloading package punkt to /usr/share/nltk_data...\n",
      "[nltk_data]   Package punkt is already up-to-date!\n",
      "[nltk_data] Downloading package wordnet to /usr/share/nltk_data...\n",
      "[nltk_data]   Package wordnet is already up-to-date!\n"
     ]
    }
   ],
   "source": [
    "# Importing python modules and packages\n",
    "\n",
    "# Tools to create a data frame\n",
    "import pandas as pd\n",
    "from pandas import DataFrame\n",
    "\n",
    "# Tools for text preprocessing\n",
    "import nltk\n",
    "import re\n",
    "\n",
    "# Tools to remove stopwords\n",
    "from nltk.corpus import stopwords\n",
    "\n",
    "# Tools for tokenizing\n",
    "from nltk.tokenize.toktok import ToktokTokenizer\n",
    "\n",
    "# Tools for lemmatization\n",
    "from nltk.stem import WordNetLemmatizer\n",
    "nltk.download('stopwords')\n",
    "nltk.download('punkt')\n",
    "nltk.download('wordnet')\n",
    "\n",
    "# Tools for plotting\n",
    "import matplotlib.pyplot as plt\n",
    "\n",
    "# Tools for finding word frequencies\n",
    "from nltk.util import ngrams"
   ]
  },
  {
   "cell_type": "code",
   "execution_count": 2,
   "id": "6e58a5bc",
   "metadata": {
    "execution": {
     "iopub.execute_input": "2023-07-26T13:40:16.891752Z",
     "iopub.status.busy": "2023-07-26T13:40:16.891369Z",
     "iopub.status.idle": "2023-07-26T13:40:17.260337Z",
     "shell.execute_reply": "2023-07-26T13:40:17.259087Z"
    },
    "papermill": {
     "duration": 0.383853,
     "end_time": "2023-07-26T13:40:17.262963",
     "exception": false,
     "start_time": "2023-07-26T13:40:16.879110",
     "status": "completed"
    },
    "tags": []
   },
   "outputs": [],
   "source": [
    "# Reading in data file\n",
    "data = pd.read_csv('/kaggle/input/mental-health/mental_health.csv')"
   ]
  },
  {
   "cell_type": "code",
   "execution_count": 3,
   "id": "b1e42f7c",
   "metadata": {
    "execution": {
     "iopub.execute_input": "2023-07-26T13:40:17.284186Z",
     "iopub.status.busy": "2023-07-26T13:40:17.283809Z",
     "iopub.status.idle": "2023-07-26T13:40:17.303008Z",
     "shell.execute_reply": "2023-07-26T13:40:17.301950Z"
    },
    "papermill": {
     "duration": 0.03291,
     "end_time": "2023-07-26T13:40:17.305793",
     "exception": false,
     "start_time": "2023-07-26T13:40:17.272883",
     "status": "completed"
    },
    "tags": []
   },
   "outputs": [
    {
     "data": {
      "text/html": [
       "<div>\n",
       "<style scoped>\n",
       "    .dataframe tbody tr th:only-of-type {\n",
       "        vertical-align: middle;\n",
       "    }\n",
       "\n",
       "    .dataframe tbody tr th {\n",
       "        vertical-align: top;\n",
       "    }\n",
       "\n",
       "    .dataframe thead th {\n",
       "        text-align: right;\n",
       "    }\n",
       "</style>\n",
       "<table border=\"1\" class=\"dataframe\">\n",
       "  <thead>\n",
       "    <tr style=\"text-align: right;\">\n",
       "      <th></th>\n",
       "      <th>text</th>\n",
       "      <th>label</th>\n",
       "    </tr>\n",
       "  </thead>\n",
       "  <tbody>\n",
       "    <tr>\n",
       "      <th>0</th>\n",
       "      <td>dear american teens question dutch person hear...</td>\n",
       "      <td>0</td>\n",
       "    </tr>\n",
       "    <tr>\n",
       "      <th>1</th>\n",
       "      <td>nothing look forward lifei dont many reasons k...</td>\n",
       "      <td>1</td>\n",
       "    </tr>\n",
       "    <tr>\n",
       "      <th>2</th>\n",
       "      <td>music recommendations im looking expand playli...</td>\n",
       "      <td>0</td>\n",
       "    </tr>\n",
       "    <tr>\n",
       "      <th>3</th>\n",
       "      <td>im done trying feel betterthe reason im still ...</td>\n",
       "      <td>1</td>\n",
       "    </tr>\n",
       "    <tr>\n",
       "      <th>4</th>\n",
       "      <td>worried  year old girl subject domestic physic...</td>\n",
       "      <td>1</td>\n",
       "    </tr>\n",
       "    <tr>\n",
       "      <th>5</th>\n",
       "      <td>hey rredflag sure right place post this goes  ...</td>\n",
       "      <td>1</td>\n",
       "    </tr>\n",
       "    <tr>\n",
       "      <th>6</th>\n",
       "      <td>feel like someone needs hear tonight feeling r...</td>\n",
       "      <td>0</td>\n",
       "    </tr>\n",
       "    <tr>\n",
       "      <th>7</th>\n",
       "      <td>deserve liveif died right noone would carei re...</td>\n",
       "      <td>1</td>\n",
       "    </tr>\n",
       "    <tr>\n",
       "      <th>8</th>\n",
       "      <td>feels good ive set dateim killing friday nice ...</td>\n",
       "      <td>1</td>\n",
       "    </tr>\n",
       "    <tr>\n",
       "      <th>9</th>\n",
       "      <td>live guiltok made stupid random choice  its ge...</td>\n",
       "      <td>1</td>\n",
       "    </tr>\n",
       "  </tbody>\n",
       "</table>\n",
       "</div>"
      ],
      "text/plain": [
       "                                                text  label\n",
       "0  dear american teens question dutch person hear...      0\n",
       "1  nothing look forward lifei dont many reasons k...      1\n",
       "2  music recommendations im looking expand playli...      0\n",
       "3  im done trying feel betterthe reason im still ...      1\n",
       "4  worried  year old girl subject domestic physic...      1\n",
       "5  hey rredflag sure right place post this goes  ...      1\n",
       "6  feel like someone needs hear tonight feeling r...      0\n",
       "7  deserve liveif died right noone would carei re...      1\n",
       "8  feels good ive set dateim killing friday nice ...      1\n",
       "9  live guiltok made stupid random choice  its ge...      1"
      ]
     },
     "execution_count": 3,
     "metadata": {},
     "output_type": "execute_result"
    }
   ],
   "source": [
    "# Looking at data\n",
    "data.head(10)"
   ]
  },
  {
   "cell_type": "code",
   "execution_count": 4,
   "id": "cb4bcb7d",
   "metadata": {
    "execution": {
     "iopub.execute_input": "2023-07-26T13:40:17.327610Z",
     "iopub.status.busy": "2023-07-26T13:40:17.327245Z",
     "iopub.status.idle": "2023-07-26T13:40:17.332820Z",
     "shell.execute_reply": "2023-07-26T13:40:17.331638Z"
    },
    "papermill": {
     "duration": 0.019263,
     "end_time": "2023-07-26T13:40:17.335048",
     "exception": false,
     "start_time": "2023-07-26T13:40:17.315785",
     "status": "completed"
    },
    "tags": []
   },
   "outputs": [],
   "source": [
    "# Cleaning data (again) to ensure all functions have been completed\n",
    "\n",
    "# Removing special characters\n",
    "def remove_special_characters(text, remove_digits=False):\n",
    "    pattern = r'[^a-zA-Z0-9\\s]' if not remove_digits else r'[^a-zA-z\\s]'\n",
    "    text = re.sub(pattern, '', text)\n",
    "    return text"
   ]
  },
  {
   "cell_type": "code",
   "execution_count": 5,
   "id": "83a8a59e",
   "metadata": {
    "execution": {
     "iopub.execute_input": "2023-07-26T13:40:17.357890Z",
     "iopub.status.busy": "2023-07-26T13:40:17.357262Z",
     "iopub.status.idle": "2023-07-26T13:40:17.367553Z",
     "shell.execute_reply": "2023-07-26T13:40:17.366624Z"
    },
    "papermill": {
     "duration": 0.024568,
     "end_time": "2023-07-26T13:40:17.369968",
     "exception": false,
     "start_time": "2023-07-26T13:40:17.345400",
     "status": "completed"
    },
    "tags": []
   },
   "outputs": [],
   "source": [
    "# Removing Stopwords\n",
    "tokenizer = ToktokTokenizer()\n",
    "stopword_list = nltk.corpus.stopwords.words('english')\n",
    "stopword_list.remove('no') \n",
    "stopword_list.remove('not') \n",
    "# Tokenizing \n",
    "def remove_stopwords(text, is_lower_case=False):\n",
    "\n",
    "    tokens = tokenizer.tokenize(text)\n",
    "    # remove whitespaces in each token\n",
    "    tokens = [token.strip() for token in tokens]\n",
    "    \n",
    "    if is_lower_case:\n",
    "        filtered_tokens = [token for token in tokens if token not in stopword_list]\n",
    "  \n",
    "    else:\n",
    "        filtered_tokens = [token for token in tokens if token.lower() not in stopword_list]\n",
    "    filtered_text = ' '.join(filtered_tokens)\n",
    "    return filtered_text"
   ]
  },
  {
   "cell_type": "code",
   "execution_count": 6,
   "id": "7458e938",
   "metadata": {
    "execution": {
     "iopub.execute_input": "2023-07-26T13:40:17.392155Z",
     "iopub.status.busy": "2023-07-26T13:40:17.391320Z",
     "iopub.status.idle": "2023-07-26T13:40:17.396629Z",
     "shell.execute_reply": "2023-07-26T13:40:17.395615Z"
    },
    "papermill": {
     "duration": 0.018749,
     "end_time": "2023-07-26T13:40:17.398723",
     "exception": false,
     "start_time": "2023-07-26T13:40:17.379974",
     "status": "completed"
    },
    "tags": []
   },
   "outputs": [],
   "source": [
    "#%% Stemming\n",
    "\n",
    "def simple_stemmer(text):\n",
    "    ps = nltk.porter.PorterStemmer()\n",
    "\n",
    "    text = ' '.join([ps.stem(word) for word in text.split()])\n",
    "    return text\n"
   ]
  },
  {
   "cell_type": "code",
   "execution_count": 7,
   "id": "812eef1c",
   "metadata": {
    "execution": {
     "iopub.execute_input": "2023-07-26T13:40:17.420393Z",
     "iopub.status.busy": "2023-07-26T13:40:17.420005Z",
     "iopub.status.idle": "2023-07-26T13:40:17.426320Z",
     "shell.execute_reply": "2023-07-26T13:40:17.425092Z"
    },
    "papermill": {
     "duration": 0.019978,
     "end_time": "2023-07-26T13:40:17.428607",
     "exception": false,
     "start_time": "2023-07-26T13:40:17.408629",
     "status": "completed"
    },
    "tags": []
   },
   "outputs": [],
   "source": [
    "# Lemmatization\n",
    "# making lowercase\n",
    "wordnet_lemmatizer = WordNetLemmatizer()\n",
    "def lemmatize_text(text):\n",
    "    s = \" \" \n",
    "    t_l = [] # creating an empty list\n",
    "    t_w = nltk.word_tokenize(text) \n",
    " \n",
    "    for w in t_w: # ensuring that only verbs are lemmatized \n",
    "       \n",
    "        l_w = wordnet_lemmatizer.lemmatize(w, pos=\"v\")\n",
    "        # append l_w into the list t_l\n",
    "        t_l.append(l_w)\n",
    "    # making a complete sentence\n",
    "    text = s.join(t_l)\n",
    "    return text"
   ]
  },
  {
   "cell_type": "code",
   "execution_count": 8,
   "id": "571c4381",
   "metadata": {
    "execution": {
     "iopub.execute_input": "2023-07-26T13:40:17.450444Z",
     "iopub.status.busy": "2023-07-26T13:40:17.449996Z",
     "iopub.status.idle": "2023-07-26T13:40:17.458494Z",
     "shell.execute_reply": "2023-07-26T13:40:17.457209Z"
    },
    "papermill": {
     "duration": 0.022255,
     "end_time": "2023-07-26T13:40:17.460683",
     "exception": false,
     "start_time": "2023-07-26T13:40:17.438428",
     "status": "completed"
    },
    "tags": []
   },
   "outputs": [
    {
     "name": "stdout",
     "output_type": "stream",
     "text": [
      "                                                    text  label\n",
      "0      dear american teens question dutch person hear...      0\n",
      "1      nothing look forward lifei dont many reasons k...      1\n",
      "2      music recommendations im looking expand playli...      0\n",
      "3      im done trying feel betterthe reason im still ...      1\n",
      "4      worried  year old girl subject domestic physic...      1\n",
      "...                                                  ...    ...\n",
      "27972  posting everyday people stop caring  religion ...      0\n",
      "27973  okay definetly need hear guys opinion ive pret...      0\n",
      "27974  cant get dog think ill kill myselfthe last thi...      1\n",
      "27975  whats point princess bridei really think like ...      1\n",
      "27976  got nudes person might might know snapchat do ...      0\n",
      "\n",
      "[27977 rows x 2 columns]\n"
     ]
    }
   ],
   "source": [
    "# Checking cleaned data \n",
    "print(data)"
   ]
  },
  {
   "cell_type": "code",
   "execution_count": 9,
   "id": "c0afbdbc",
   "metadata": {
    "execution": {
     "iopub.execute_input": "2023-07-26T13:40:17.483073Z",
     "iopub.status.busy": "2023-07-26T13:40:17.481969Z",
     "iopub.status.idle": "2023-07-26T13:40:17.895533Z",
     "shell.execute_reply": "2023-07-26T13:40:17.894170Z"
    },
    "papermill": {
     "duration": 0.428216,
     "end_time": "2023-07-26T13:40:17.898883",
     "exception": false,
     "start_time": "2023-07-26T13:40:17.470667",
     "status": "completed"
    },
    "tags": []
   },
   "outputs": [],
   "source": [
    "#%% Saving cleaned data\n",
    "data.to_csv(\"Mental_Health_Preprocessed2.csv\")"
   ]
  },
  {
   "cell_type": "code",
   "execution_count": 10,
   "id": "4f38145b",
   "metadata": {
    "execution": {
     "iopub.execute_input": "2023-07-26T13:40:17.923290Z",
     "iopub.status.busy": "2023-07-26T13:40:17.922236Z",
     "iopub.status.idle": "2023-07-26T13:40:17.928708Z",
     "shell.execute_reply": "2023-07-26T13:40:17.927315Z"
    },
    "papermill": {
     "duration": 0.021541,
     "end_time": "2023-07-26T13:40:17.931436",
     "exception": false,
     "start_time": "2023-07-26T13:40:17.909895",
     "status": "completed"
    },
    "tags": []
   },
   "outputs": [],
   "source": [
    "# Renaming headers\n",
    "new_headers = ['Response','Label']\n",
    "data.columns = new_headers"
   ]
  },
  {
   "cell_type": "code",
   "execution_count": 11,
   "id": "4d3af8e6",
   "metadata": {
    "execution": {
     "iopub.execute_input": "2023-07-26T13:40:17.954073Z",
     "iopub.status.busy": "2023-07-26T13:40:17.953666Z",
     "iopub.status.idle": "2023-07-26T13:40:17.965667Z",
     "shell.execute_reply": "2023-07-26T13:40:17.964016Z"
    },
    "papermill": {
     "duration": 0.026166,
     "end_time": "2023-07-26T13:40:17.967723",
     "exception": false,
     "start_time": "2023-07-26T13:40:17.941557",
     "status": "completed"
    },
    "tags": []
   },
   "outputs": [
    {
     "data": {
      "text/html": [
       "<div>\n",
       "<style scoped>\n",
       "    .dataframe tbody tr th:only-of-type {\n",
       "        vertical-align: middle;\n",
       "    }\n",
       "\n",
       "    .dataframe tbody tr th {\n",
       "        vertical-align: top;\n",
       "    }\n",
       "\n",
       "    .dataframe thead th {\n",
       "        text-align: right;\n",
       "    }\n",
       "</style>\n",
       "<table border=\"1\" class=\"dataframe\">\n",
       "  <thead>\n",
       "    <tr style=\"text-align: right;\">\n",
       "      <th></th>\n",
       "      <th>Response</th>\n",
       "      <th>Label</th>\n",
       "    </tr>\n",
       "  </thead>\n",
       "  <tbody>\n",
       "    <tr>\n",
       "      <th>0</th>\n",
       "      <td>dear american teens question dutch person hear...</td>\n",
       "      <td>0</td>\n",
       "    </tr>\n",
       "    <tr>\n",
       "      <th>1</th>\n",
       "      <td>nothing look forward lifei dont many reasons k...</td>\n",
       "      <td>1</td>\n",
       "    </tr>\n",
       "    <tr>\n",
       "      <th>2</th>\n",
       "      <td>music recommendations im looking expand playli...</td>\n",
       "      <td>0</td>\n",
       "    </tr>\n",
       "    <tr>\n",
       "      <th>3</th>\n",
       "      <td>im done trying feel betterthe reason im still ...</td>\n",
       "      <td>1</td>\n",
       "    </tr>\n",
       "    <tr>\n",
       "      <th>4</th>\n",
       "      <td>worried  year old girl subject domestic physic...</td>\n",
       "      <td>1</td>\n",
       "    </tr>\n",
       "    <tr>\n",
       "      <th>5</th>\n",
       "      <td>hey rredflag sure right place post this goes  ...</td>\n",
       "      <td>1</td>\n",
       "    </tr>\n",
       "    <tr>\n",
       "      <th>6</th>\n",
       "      <td>feel like someone needs hear tonight feeling r...</td>\n",
       "      <td>0</td>\n",
       "    </tr>\n",
       "    <tr>\n",
       "      <th>7</th>\n",
       "      <td>deserve liveif died right noone would carei re...</td>\n",
       "      <td>1</td>\n",
       "    </tr>\n",
       "    <tr>\n",
       "      <th>8</th>\n",
       "      <td>feels good ive set dateim killing friday nice ...</td>\n",
       "      <td>1</td>\n",
       "    </tr>\n",
       "    <tr>\n",
       "      <th>9</th>\n",
       "      <td>live guiltok made stupid random choice  its ge...</td>\n",
       "      <td>1</td>\n",
       "    </tr>\n",
       "  </tbody>\n",
       "</table>\n",
       "</div>"
      ],
      "text/plain": [
       "                                            Response  Label\n",
       "0  dear american teens question dutch person hear...      0\n",
       "1  nothing look forward lifei dont many reasons k...      1\n",
       "2  music recommendations im looking expand playli...      0\n",
       "3  im done trying feel betterthe reason im still ...      1\n",
       "4  worried  year old girl subject domestic physic...      1\n",
       "5  hey rredflag sure right place post this goes  ...      1\n",
       "6  feel like someone needs hear tonight feeling r...      0\n",
       "7  deserve liveif died right noone would carei re...      1\n",
       "8  feels good ive set dateim killing friday nice ...      1\n",
       "9  live guiltok made stupid random choice  its ge...      1"
      ]
     },
     "execution_count": 11,
     "metadata": {},
     "output_type": "execute_result"
    }
   ],
   "source": [
    "# Checking new headers\n",
    "data.head(10)"
   ]
  },
  {
   "cell_type": "code",
   "execution_count": 12,
   "id": "711ed082",
   "metadata": {
    "execution": {
     "iopub.execute_input": "2023-07-26T13:40:17.992032Z",
     "iopub.status.busy": "2023-07-26T13:40:17.991662Z",
     "iopub.status.idle": "2023-07-26T13:40:18.005226Z",
     "shell.execute_reply": "2023-07-26T13:40:18.003567Z"
    },
    "papermill": {
     "duration": 0.029729,
     "end_time": "2023-07-26T13:40:18.009181",
     "exception": false,
     "start_time": "2023-07-26T13:40:17.979452",
     "status": "completed"
    },
    "tags": []
   },
   "outputs": [],
   "source": [
    "# Exploratory Data Analysis\n",
    "# zero (0) means not flagged as mental illness, one (1) means flagged as mental illness\n",
    "groups = data.groupby('Label').agg({'Label':'count'})\n"
   ]
  },
  {
   "cell_type": "code",
   "execution_count": 13,
   "id": "a6041386",
   "metadata": {
    "execution": {
     "iopub.execute_input": "2023-07-26T13:40:18.032570Z",
     "iopub.status.busy": "2023-07-26T13:40:18.032124Z",
     "iopub.status.idle": "2023-07-26T13:40:18.298532Z",
     "shell.execute_reply": "2023-07-26T13:40:18.297372Z"
    },
    "papermill": {
     "duration": 0.281466,
     "end_time": "2023-07-26T13:40:18.301136",
     "exception": false,
     "start_time": "2023-07-26T13:40:18.019670",
     "status": "completed"
    },
    "tags": []
   },
   "outputs": [
    {
     "data": {
      "image/png": "[encoded data removed]",
      "text/plain": [
       "<Figure size 640x480 with 1 Axes>"
      ]
     },
     "metadata": {},
     "output_type": "display_data"
    }
   ],
   "source": [
    "# Creating a bar graph to compare the number of responses in each category (not mental illness vs. mental illness)\n",
    "bars = plt.bar(range(2),groups.Label,color=('crimson','turquoise'))\n",
    "\n",
    "plt.xlabel('Unflagged Or Flagged')\n",
    "plt.ylabel('Count')\n",
    "plt.title('Number of Unflagged and Flagged Responses')\n",
    "\n",
    "\n",
    "plt.xticks([0,1])\n",
    "\n",
    "plt.show()"
   ]
  },
  {
   "cell_type": "code",
   "execution_count": 14,
   "id": "5ba22c16",
   "metadata": {
    "execution": {
     "iopub.execute_input": "2023-07-26T13:40:18.327393Z",
     "iopub.status.busy": "2023-07-26T13:40:18.326775Z",
     "iopub.status.idle": "2023-07-26T13:40:21.091126Z",
     "shell.execute_reply": "2023-07-26T13:40:21.089707Z"
    },
    "papermill": {
     "duration": 2.780054,
     "end_time": "2023-07-26T13:40:21.093767",
     "exception": false,
     "start_time": "2023-07-26T13:40:18.313713",
     "status": "completed"
    },
    "tags": []
   },
   "outputs": [],
   "source": [
    "# Creating a bigram for reponses labeled 0\n",
    "Mental_Health_Word =[]\n",
    "for words in data[data.Label == 0].Response:\n",
    "    tokens = tokenizer.tokenize(words)\n",
    "    for token in tokens:\n",
    "       Mental_Health_Word.append(token)\n",
    "mental_health_bigrams_series = (pd.Series(nltk.ngrams(Mental_Health_Word,2)).value_counts())[:20]"
   ]
  },
  {
   "cell_type": "code",
   "execution_count": 15,
   "id": "5d7ba07c",
   "metadata": {
    "execution": {
     "iopub.execute_input": "2023-07-26T13:40:21.119171Z",
     "iopub.status.busy": "2023-07-26T13:40:21.118782Z",
     "iopub.status.idle": "2023-07-26T13:40:21.619298Z",
     "shell.execute_reply": "2023-07-26T13:40:21.617944Z"
    },
    "papermill": {
     "duration": 0.517588,
     "end_time": "2023-07-26T13:40:21.622297",
     "exception": false,
     "start_time": "2023-07-26T13:40:21.104709",
     "status": "completed"
    },
    "tags": []
   },
   "outputs": [
    {
     "data": {
      "text/plain": [
       "Text(0, 0.5, 'Bigram')"
      ]
     },
     "execution_count": 15,
     "metadata": {},
     "output_type": "execute_result"
    },
    {
     "data": {
      "image/png": "[encoded data removed]",
      "text/plain": [
       "<Figure size 1200x800 with 1 Axes>"
      ]
     },
     "metadata": {},
     "output_type": "display_data"
    }
   ],
   "source": [
    "# Creating a plot of the number of bigrams for unflagged responses\n",
    "mental_health_bigrams_series.sort_values().plot.barh(color='crimson', width=.9, figsize=(12, 8))\n",
    "plt.title('20 Most Frequently Occuring Bigrams In Responses that do not Indicate Mental Illness')\n",
    "plt.ylabel('Bigram')"
   ]
  },
  {
   "cell_type": "code",
   "execution_count": 16,
   "id": "eca3182c",
   "metadata": {
    "execution": {
     "iopub.execute_input": "2023-07-26T13:40:21.648819Z",
     "iopub.status.busy": "2023-07-26T13:40:21.648380Z",
     "iopub.status.idle": "2023-07-26T13:40:26.481351Z",
     "shell.execute_reply": "2023-07-26T13:40:26.480106Z"
    },
    "papermill": {
     "duration": 4.849087,
     "end_time": "2023-07-26T13:40:26.483957",
     "exception": false,
     "start_time": "2023-07-26T13:40:21.634870",
     "status": "completed"
    },
    "tags": []
   },
   "outputs": [],
   "source": [
    "# Creating a bigram for responses labeled 1\n",
    "Mental_Health_Word =[]\n",
    "for words in data[data.Label == 1].Response:\n",
    "    tokens = tokenizer.tokenize(words)\n",
    "    for token in tokens:\n",
    "       Mental_Health_Word.append(token)\n",
    "mental_health_bigrams_series = (pd.Series(nltk.ngrams(Mental_Health_Word,2)).value_counts())[:20]"
   ]
  },
  {
   "cell_type": "code",
   "execution_count": 17,
   "id": "3d260ee5",
   "metadata": {
    "execution": {
     "iopub.execute_input": "2023-07-26T13:40:26.512090Z",
     "iopub.status.busy": "2023-07-26T13:40:26.511416Z",
     "iopub.status.idle": "2023-07-26T13:40:26.978330Z",
     "shell.execute_reply": "2023-07-26T13:40:26.977273Z"
    },
    "papermill": {
     "duration": 0.482895,
     "end_time": "2023-07-26T13:40:26.980790",
     "exception": false,
     "start_time": "2023-07-26T13:40:26.497895",
     "status": "completed"
    },
    "tags": []
   },
   "outputs": [
    {
     "data": {
      "text/plain": [
       "Text(0.5, 0, 'Frequency')"
      ]
     },
     "execution_count": 17,
     "metadata": {},
     "output_type": "execute_result"
    },
    {
     "data": {
      "image/png": "[encoded data removed]",
      "text/plain": [
       "<Figure size 1200x800 with 1 Axes>"
      ]
     },
     "metadata": {},
     "output_type": "display_data"
    }
   ],
   "source": [
    "# Creating a plot of the number of bigrams for flagged responses\n",
    "mental_health_bigrams_series.sort_values().plot.barh(color='turquoise', width=.9, figsize=(12, 8))\n",
    "plt.title('20 Most Frequently Occuring Bigrams in Responses that Indicate Mental Illness')\n",
    "plt.ylabel('Bigram')\n",
    "plt.xlabel('Frequency')"
   ]
  },
  {
   "cell_type": "code",
   "execution_count": 18,
   "id": "d7518f4b",
   "metadata": {
    "execution": {
     "iopub.execute_input": "2023-07-26T13:40:27.009499Z",
     "iopub.status.busy": "2023-07-26T13:40:27.009104Z",
     "iopub.status.idle": "2023-07-26T13:40:27.446466Z",
     "shell.execute_reply": "2023-07-26T13:40:27.445360Z"
    },
    "papermill": {
     "duration": 0.455892,
     "end_time": "2023-07-26T13:40:27.449527",
     "exception": false,
     "start_time": "2023-07-26T13:40:26.993635",
     "status": "completed"
    },
    "tags": []
   },
   "outputs": [],
   "source": [
    "# Importing python packages\n",
    "import pandas as pd\n",
    "import numpy as np\n",
    "\n",
    "# Packages for classification\n",
    "from sklearn.svm import SVC\n",
    "from sklearn.metrics import accuracy_score\n",
    "\n",
    "# Packages for plotting\n",
    "import matplotlib.pyplot as plt\n",
    "import seaborn as sns"
   ]
  },
  {
   "cell_type": "code",
   "execution_count": 19,
   "id": "1c54c654",
   "metadata": {
    "execution": {
     "iopub.execute_input": "2023-07-26T13:40:27.477028Z",
     "iopub.status.busy": "2023-07-26T13:40:27.476633Z",
     "iopub.status.idle": "2023-07-26T13:40:27.483216Z",
     "shell.execute_reply": "2023-07-26T13:40:27.482005Z"
    },
    "papermill": {
     "duration": 0.023258,
     "end_time": "2023-07-26T13:40:27.485575",
     "exception": false,
     "start_time": "2023-07-26T13:40:27.462317",
     "status": "completed"
    },
    "tags": []
   },
   "outputs": [
    {
     "data": {
      "text/plain": [
       "(27977, 2)"
      ]
     },
     "execution_count": 19,
     "metadata": {},
     "output_type": "execute_result"
    }
   ],
   "source": [
    "# Looking at number of rows and columns\n",
    "data.shape"
   ]
  },
  {
   "cell_type": "code",
   "execution_count": 20,
   "id": "5d07cb5c",
   "metadata": {
    "execution": {
     "iopub.execute_input": "2023-07-26T13:40:27.512942Z",
     "iopub.status.busy": "2023-07-26T13:40:27.512308Z",
     "iopub.status.idle": "2023-07-26T13:40:27.520359Z",
     "shell.execute_reply": "2023-07-26T13:40:27.519285Z"
    },
    "papermill": {
     "duration": 0.024126,
     "end_time": "2023-07-26T13:40:27.522432",
     "exception": false,
     "start_time": "2023-07-26T13:40:27.498306",
     "status": "completed"
    },
    "tags": []
   },
   "outputs": [
    {
     "data": {
      "text/plain": [
       "Response    object\n",
       "Label        int64\n",
       "dtype: object"
      ]
     },
     "execution_count": 20,
     "metadata": {},
     "output_type": "execute_result"
    }
   ],
   "source": [
    "# Looking at the data types \n",
    "data.dtypes"
   ]
  },
  {
   "cell_type": "code",
   "execution_count": 21,
   "id": "b3b374f2",
   "metadata": {
    "execution": {
     "iopub.execute_input": "2023-07-26T13:40:27.549998Z",
     "iopub.status.busy": "2023-07-26T13:40:27.549373Z",
     "iopub.status.idle": "2023-07-26T13:40:27.596179Z",
     "shell.execute_reply": "2023-07-26T13:40:27.595034Z"
    },
    "papermill": {
     "duration": 0.063789,
     "end_time": "2023-07-26T13:40:27.599073",
     "exception": false,
     "start_time": "2023-07-26T13:40:27.535284",
     "status": "completed"
    },
    "tags": []
   },
   "outputs": [],
   "source": [
    "# Package for Sentiment analysis\n",
    "from textblob import TextBlob"
   ]
  },
  {
   "cell_type": "code",
   "execution_count": 22,
   "id": "151f6fc3",
   "metadata": {
    "execution": {
     "iopub.execute_input": "2023-07-26T13:40:27.627079Z",
     "iopub.status.busy": "2023-07-26T13:40:27.626059Z",
     "iopub.status.idle": "2023-07-26T13:40:27.632132Z",
     "shell.execute_reply": "2023-07-26T13:40:27.630777Z"
    },
    "papermill": {
     "duration": 0.022674,
     "end_time": "2023-07-26T13:40:27.634788",
     "exception": false,
     "start_time": "2023-07-26T13:40:27.612114",
     "status": "completed"
    },
    "tags": []
   },
   "outputs": [],
   "source": [
    "# Definition for sentiment analysis\n",
    "def get_sentiment(Response):\n",
    "\n",
    "# Putting text in textblob\n",
    "  blob = TextBlob(Response)\n",
    "\n",
    "# Polarity score\n",
    "  sentiment = blob.sentiment.polarity\n",
    "\n",
    "# Putting the score into categories (positive, negative, neutral)\n",
    "  if sentiment > 0:\n",
    "    result = \"Positive\"\n",
    "  elif sentiment < 0:\n",
    "    result = \"Negative\"\n",
    "  else:\n",
    "    result = \"Neutral\"\n",
    "  return result"
   ]
  },
  {
   "cell_type": "code",
   "execution_count": 23,
   "id": "1f631917",
   "metadata": {
    "execution": {
     "iopub.execute_input": "2023-07-26T13:40:27.662436Z",
     "iopub.status.busy": "2023-07-26T13:40:27.662045Z",
     "iopub.status.idle": "2023-07-26T13:40:27.893921Z",
     "shell.execute_reply": "2023-07-26T13:40:27.892823Z"
    },
    "papermill": {
     "duration": 0.248408,
     "end_time": "2023-07-26T13:40:27.896186",
     "exception": false,
     "start_time": "2023-07-26T13:40:27.647778",
     "status": "completed"
    },
    "tags": []
   },
   "outputs": [
    {
     "data": {
      "text/plain": [
       "'Negative'"
      ]
     },
     "execution_count": 23,
     "metadata": {},
     "output_type": "execute_result"
    }
   ],
   "source": [
    "# Using a response to test sentiment analysis\n",
    "get_sentiment (\"im done trying feel betterthe reason im still alive know mum devastated ever killed myself ever passes im still state im going hesitate ending life shortly after im almost  take meds go therapy nothing seems help enough dont want around anymore hate feeling like this wouldnt wish upon enemy brain feels like constantly like static tv wont shut overthinking do think im running options dont see living past  got accepted health science degree dont even know wanna try know im smart mental illness holds back think cant anything im good enough need fucking help dont know anymore ive run options\")"
   ]
  },
  {
   "cell_type": "code",
   "execution_count": 24,
   "id": "6f066a58",
   "metadata": {
    "execution": {
     "iopub.execute_input": "2023-07-26T13:40:27.925111Z",
     "iopub.status.busy": "2023-07-26T13:40:27.924450Z",
     "iopub.status.idle": "2023-07-26T13:40:43.514227Z",
     "shell.execute_reply": "2023-07-26T13:40:43.513042Z"
    },
    "papermill": {
     "duration": 15.607237,
     "end_time": "2023-07-26T13:40:43.516851",
     "exception": false,
     "start_time": "2023-07-26T13:40:27.909614",
     "status": "completed"
    },
    "tags": []
   },
   "outputs": [],
   "source": [
    "# Getting the sentiment of the entire dataset \n",
    "data['Sentiment'] = data['Response'].apply(get_sentiment)\n"
   ]
  },
  {
   "cell_type": "code",
   "execution_count": 25,
   "id": "cd2c35de",
   "metadata": {
    "execution": {
     "iopub.execute_input": "2023-07-26T13:40:43.547091Z",
     "iopub.status.busy": "2023-07-26T13:40:43.546711Z",
     "iopub.status.idle": "2023-07-26T13:40:43.558986Z",
     "shell.execute_reply": "2023-07-26T13:40:43.557819Z"
    },
    "papermill": {
     "duration": 0.030742,
     "end_time": "2023-07-26T13:40:43.561314",
     "exception": false,
     "start_time": "2023-07-26T13:40:43.530572",
     "status": "completed"
    },
    "tags": []
   },
   "outputs": [
    {
     "data": {
      "text/html": [
       "<div>\n",
       "<style scoped>\n",
       "    .dataframe tbody tr th:only-of-type {\n",
       "        vertical-align: middle;\n",
       "    }\n",
       "\n",
       "    .dataframe tbody tr th {\n",
       "        vertical-align: top;\n",
       "    }\n",
       "\n",
       "    .dataframe thead th {\n",
       "        text-align: right;\n",
       "    }\n",
       "</style>\n",
       "<table border=\"1\" class=\"dataframe\">\n",
       "  <thead>\n",
       "    <tr style=\"text-align: right;\">\n",
       "      <th></th>\n",
       "      <th>Response</th>\n",
       "      <th>Label</th>\n",
       "      <th>Sentiment</th>\n",
       "    </tr>\n",
       "  </thead>\n",
       "  <tbody>\n",
       "    <tr>\n",
       "      <th>0</th>\n",
       "      <td>dear american teens question dutch person hear...</td>\n",
       "      <td>0</td>\n",
       "      <td>Positive</td>\n",
       "    </tr>\n",
       "    <tr>\n",
       "      <th>1</th>\n",
       "      <td>nothing look forward lifei dont many reasons k...</td>\n",
       "      <td>1</td>\n",
       "      <td>Positive</td>\n",
       "    </tr>\n",
       "    <tr>\n",
       "      <th>2</th>\n",
       "      <td>music recommendations im looking expand playli...</td>\n",
       "      <td>0</td>\n",
       "      <td>Positive</td>\n",
       "    </tr>\n",
       "    <tr>\n",
       "      <th>3</th>\n",
       "      <td>im done trying feel betterthe reason im still ...</td>\n",
       "      <td>1</td>\n",
       "      <td>Negative</td>\n",
       "    </tr>\n",
       "    <tr>\n",
       "      <th>4</th>\n",
       "      <td>worried  year old girl subject domestic physic...</td>\n",
       "      <td>1</td>\n",
       "      <td>Negative</td>\n",
       "    </tr>\n",
       "    <tr>\n",
       "      <th>5</th>\n",
       "      <td>hey rredflag sure right place post this goes  ...</td>\n",
       "      <td>1</td>\n",
       "      <td>Positive</td>\n",
       "    </tr>\n",
       "    <tr>\n",
       "      <th>6</th>\n",
       "      <td>feel like someone needs hear tonight feeling r...</td>\n",
       "      <td>0</td>\n",
       "      <td>Positive</td>\n",
       "    </tr>\n",
       "    <tr>\n",
       "      <th>7</th>\n",
       "      <td>deserve liveif died right noone would carei re...</td>\n",
       "      <td>1</td>\n",
       "      <td>Positive</td>\n",
       "    </tr>\n",
       "    <tr>\n",
       "      <th>8</th>\n",
       "      <td>feels good ive set dateim killing friday nice ...</td>\n",
       "      <td>1</td>\n",
       "      <td>Positive</td>\n",
       "    </tr>\n",
       "    <tr>\n",
       "      <th>9</th>\n",
       "      <td>live guiltok made stupid random choice  its ge...</td>\n",
       "      <td>1</td>\n",
       "      <td>Negative</td>\n",
       "    </tr>\n",
       "  </tbody>\n",
       "</table>\n",
       "</div>"
      ],
      "text/plain": [
       "                                            Response  Label Sentiment\n",
       "0  dear american teens question dutch person hear...      0  Positive\n",
       "1  nothing look forward lifei dont many reasons k...      1  Positive\n",
       "2  music recommendations im looking expand playli...      0  Positive\n",
       "3  im done trying feel betterthe reason im still ...      1  Negative\n",
       "4  worried  year old girl subject domestic physic...      1  Negative\n",
       "5  hey rredflag sure right place post this goes  ...      1  Positive\n",
       "6  feel like someone needs hear tonight feeling r...      0  Positive\n",
       "7  deserve liveif died right noone would carei re...      1  Positive\n",
       "8  feels good ive set dateim killing friday nice ...      1  Positive\n",
       "9  live guiltok made stupid random choice  its ge...      1  Negative"
      ]
     },
     "execution_count": 25,
     "metadata": {},
     "output_type": "execute_result"
    }
   ],
   "source": [
    "# Checking data \n",
    "data.head(10)"
   ]
  },
  {
   "cell_type": "code",
   "execution_count": 26,
   "id": "8ebd423e",
   "metadata": {
    "execution": {
     "iopub.execute_input": "2023-07-26T13:40:43.592254Z",
     "iopub.status.busy": "2023-07-26T13:40:43.591837Z",
     "iopub.status.idle": "2023-07-26T13:40:43.606248Z",
     "shell.execute_reply": "2023-07-26T13:40:43.605286Z"
    },
    "papermill": {
     "duration": 0.032807,
     "end_time": "2023-07-26T13:40:43.608515",
     "exception": false,
     "start_time": "2023-07-26T13:40:43.575708",
     "status": "completed"
    },
    "tags": []
   },
   "outputs": [
    {
     "data": {
      "text/plain": [
       "Label  Sentiment\n",
       "0      Negative     4249\n",
       "       Neutral      2188\n",
       "       Positive     7702\n",
       "1      Negative     6929\n",
       "       Neutral       709\n",
       "       Positive     6200\n",
       "dtype: int64"
      ]
     },
     "execution_count": 26,
     "metadata": {},
     "output_type": "execute_result"
    }
   ],
   "source": [
    "# Comparing the labels to sentiment\n",
    "data.groupby(['Label', 'Sentiment']).size()"
   ]
  },
  {
   "cell_type": "code",
   "execution_count": 27,
   "id": "3bab59b7",
   "metadata": {
    "execution": {
     "iopub.execute_input": "2023-07-26T13:40:43.637790Z",
     "iopub.status.busy": "2023-07-26T13:40:43.637039Z",
     "iopub.status.idle": "2023-07-26T13:40:44.194708Z",
     "shell.execute_reply": "2023-07-26T13:40:44.193510Z"
    },
    "papermill": {
     "duration": 0.574972,
     "end_time": "2023-07-26T13:40:44.197147",
     "exception": false,
     "start_time": "2023-07-26T13:40:43.622175",
     "status": "completed"
    },
    "tags": []
   },
   "outputs": [
    {
     "name": "stderr",
     "output_type": "stream",
     "text": [
      "/opt/conda/lib/python3.10/site-packages/seaborn/axisgrid.py:118: UserWarning: The figure layout has changed to tight\n",
      "  self._figure.tight_layout(*args, **kwargs)\n"
     ]
    },
    {
     "data": {
      "text/plain": [
       "<seaborn.axisgrid.FacetGrid at 0x7e20ed23ae30>"
      ]
     },
     "execution_count": 27,
     "metadata": {},
     "output_type": "execute_result"
    },
    {
     "data": {
      "image/png": "[encoded data removed]",
      "text/plain": [
       "<Figure size 862.5x500 with 1 Axes>"
      ]
     },
     "metadata": {},
     "output_type": "display_data"
    }
   ],
   "source": [
    "# Making a catplot\n",
    "custom_colors = (\"Turquoise\", \"Crimson\", \"Gold\")\n",
    "sns.catplot(x = 'Label', data = data, hue = 'Sentiment', kind = 'count', aspect = 1.5, palette=custom_colors).set(title = 'Varying Sentiment Across Responses')"
   ]
  },
  {
   "cell_type": "code",
   "execution_count": 28,
   "id": "f8da7087",
   "metadata": {
    "execution": {
     "iopub.execute_input": "2023-07-26T13:40:44.226573Z",
     "iopub.status.busy": "2023-07-26T13:40:44.226185Z",
     "iopub.status.idle": "2023-07-26T13:40:44.239243Z",
     "shell.execute_reply": "2023-07-26T13:40:44.238420Z"
    },
    "papermill": {
     "duration": 0.030962,
     "end_time": "2023-07-26T13:40:44.242112",
     "exception": false,
     "start_time": "2023-07-26T13:40:44.211150",
     "status": "completed"
    },
    "tags": []
   },
   "outputs": [],
   "source": [
    "# Packages for machine learning model \n",
    "from sklearn.feature_extraction.text import CountVectorizer, TfidfVectorizer\n",
    "from sklearn.metrics import accuracy_score, classification_report\n",
    "from sklearn.model_selection import train_test_split\n",
    "from sklearn.naive_bayes import MultinomialNB\n"
   ]
  },
  {
   "cell_type": "code",
   "execution_count": 29,
   "id": "c80c21c0",
   "metadata": {
    "execution": {
     "iopub.execute_input": "2023-07-26T13:40:44.272382Z",
     "iopub.status.busy": "2023-07-26T13:40:44.271631Z",
     "iopub.status.idle": "2023-07-26T13:40:51.303547Z",
     "shell.execute_reply": "2023-07-26T13:40:51.302295Z"
    },
    "papermill": {
     "duration": 7.050209,
     "end_time": "2023-07-26T13:40:51.306471",
     "exception": false,
     "start_time": "2023-07-26T13:40:44.256262",
     "status": "completed"
    },
    "tags": []
   },
   "outputs": [
    {
     "name": "stdout",
     "output_type": "stream",
     "text": [
      "[[0 0 0 ... 0 0 0]\n",
      " [0 0 0 ... 0 0 0]\n",
      " [0 0 0 ... 0 0 0]\n",
      " ...\n",
      " [0 0 0 ... 0 0 0]\n",
      " [0 0 0 ... 0 0 0]\n",
      " [0 0 0 ... 0 0 0]]\n"
     ]
    }
   ],
   "source": [
    "# Feature Extraction\n",
    "# importing Count Vectorizer \n",
    "count_vec=CountVectorizer()\n",
    "count_vec.fit(data['Response'])\n",
    "data_features = count_vec.transform(data['Response'])\n",
    "# making an array\n",
    "feature_matrix = data_features.toarray()\n",
    "print(feature_matrix)"
   ]
  },
  {
   "cell_type": "code",
   "execution_count": 30,
   "id": "7817443f",
   "metadata": {
    "execution": {
     "iopub.execute_input": "2023-07-26T13:40:51.336406Z",
     "iopub.status.busy": "2023-07-26T13:40:51.336008Z",
     "iopub.status.idle": "2023-07-26T13:40:51.340799Z",
     "shell.execute_reply": "2023-07-26T13:40:51.339588Z"
    },
    "papermill": {
     "duration": 0.022154,
     "end_time": "2023-07-26T13:40:51.342943",
     "exception": false,
     "start_time": "2023-07-26T13:40:51.320789",
     "status": "completed"
    },
    "tags": []
   },
   "outputs": [],
   "source": [
    "# Building Features from text\n",
    "xFeatures = data[\"Response\"]\n",
    "ylabels = data[\"Label\"]"
   ]
  },
  {
   "cell_type": "code",
   "execution_count": 31,
   "id": "044a7dc1",
   "metadata": {
    "execution": {
     "iopub.execute_input": "2023-07-26T13:40:51.375476Z",
     "iopub.status.busy": "2023-07-26T13:40:51.374766Z",
     "iopub.status.idle": "2023-07-26T13:40:53.478036Z",
     "shell.execute_reply": "2023-07-26T13:40:53.476874Z"
    },
    "papermill": {
     "duration": 2.121833,
     "end_time": "2023-07-26T13:40:53.480505",
     "exception": false,
     "start_time": "2023-07-26T13:40:51.358672",
     "status": "completed"
    },
    "tags": []
   },
   "outputs": [
    {
     "data": {
      "text/plain": [
       "array(['__', '___', '____', ..., 'zzuckerberg', 'zzzz',\n",
       "       'zzzzzzzzzzzzzzzzzzzzzzzzzzzzzzzzzzzzzzzzzzzzzz'], dtype=object)"
      ]
     },
     "execution_count": 31,
     "metadata": {},
     "output_type": "execute_result"
    }
   ],
   "source": [
    "# Getting feature names\n",
    "cv = CountVectorizer()\n",
    "x = cv.fit_transform(xFeatures)\n",
    "cv.get_feature_names_out()"
   ]
  },
  {
   "cell_type": "code",
   "execution_count": 32,
   "id": "68884cb4",
   "metadata": {
    "execution": {
     "iopub.execute_input": "2023-07-26T13:40:53.510957Z",
     "iopub.status.busy": "2023-07-26T13:40:53.510578Z",
     "iopub.status.idle": "2023-07-26T13:40:53.527104Z",
     "shell.execute_reply": "2023-07-26T13:40:53.525830Z"
    },
    "papermill": {
     "duration": 0.034599,
     "end_time": "2023-07-26T13:40:53.529709",
     "exception": false,
     "start_time": "2023-07-26T13:40:53.495110",
     "status": "completed"
    },
    "tags": []
   },
   "outputs": [],
   "source": [
    "# Splitting the dataset into train and test groups\n",
    "x_train, x_test, y_train, y_test = train_test_split(x,ylabels, test_size = 0.153, random_state = 53)"
   ]
  },
  {
   "cell_type": "code",
   "execution_count": 33,
   "id": "b1938636",
   "metadata": {
    "execution": {
     "iopub.execute_input": "2023-07-26T13:40:53.561913Z",
     "iopub.status.busy": "2023-07-26T13:40:53.561541Z",
     "iopub.status.idle": "2023-07-26T13:40:53.595508Z",
     "shell.execute_reply": "2023-07-26T13:40:53.594269Z"
    },
    "papermill": {
     "duration": 0.053461,
     "end_time": "2023-07-26T13:40:53.597873",
     "exception": false,
     "start_time": "2023-07-26T13:40:53.544412",
     "status": "completed"
    },
    "tags": []
   },
   "outputs": [
    {
     "data": {
      "text/html": [
       "<style>#sk-container-id-1 {color: black;background-color: white;}#sk-container-id-1 pre{padding: 0;}#sk-container-id-1 div.sk-toggleable {background-color: white;}#sk-container-id-1 label.sk-toggleable__label {cursor: pointer;display: block;width: 100%;margin-bottom: 0;padding: 0.3em;box-sizing: border-box;text-align: center;}#sk-container-id-1 label.sk-toggleable__label-arrow:before {content: \"▸\";float: left;margin-right: 0.25em;color: #696969;}#sk-container-id-1 label.sk-toggleable__label-arrow:hover:before {color: black;}#sk-container-id-1 div.sk-estimator:hover label.sk-toggleable__label-arrow:before {color: black;}#sk-container-id-1 div.sk-toggleable__content {max-height: 0;max-width: 0;overflow: hidden;text-align: left;background-color: #f0f8ff;}#sk-container-id-1 div.sk-toggleable__content pre {margin: 0.2em;color: black;border-radius: 0.25em;background-color: #f0f8ff;}#sk-container-id-1 input.sk-toggleable__control:checked~div.sk-toggleable__content {max-height: 200px;max-width: 100%;overflow: auto;}#sk-container-id-1 input.sk-toggleable__control:checked~label.sk-toggleable__label-arrow:before {content: \"▾\";}#sk-container-id-1 div.sk-estimator input.sk-toggleable__control:checked~label.sk-toggleable__label {background-color: #d4ebff;}#sk-container-id-1 div.sk-label input.sk-toggleable__control:checked~label.sk-toggleable__label {background-color: #d4ebff;}#sk-container-id-1 input.sk-hidden--visually {border: 0;clip: rect(1px 1px 1px 1px);clip: rect(1px, 1px, 1px, 1px);height: 1px;margin: -1px;overflow: hidden;padding: 0;position: absolute;width: 1px;}#sk-container-id-1 div.sk-estimator {font-family: monospace;background-color: #f0f8ff;border: 1px dotted black;border-radius: 0.25em;box-sizing: border-box;margin-bottom: 0.5em;}#sk-container-id-1 div.sk-estimator:hover {background-color: #d4ebff;}#sk-container-id-1 div.sk-parallel-item::after {content: \"\";width: 100%;border-bottom: 1px solid gray;flex-grow: 1;}#sk-container-id-1 div.sk-label:hover label.sk-toggleable__label {background-color: #d4ebff;}#sk-container-id-1 div.sk-serial::before {content: \"\";position: absolute;border-left: 1px solid gray;box-sizing: border-box;top: 0;bottom: 0;left: 50%;z-index: 0;}#sk-container-id-1 div.sk-serial {display: flex;flex-direction: column;align-items: center;background-color: white;padding-right: 0.2em;padding-left: 0.2em;position: relative;}#sk-container-id-1 div.sk-item {position: relative;z-index: 1;}#sk-container-id-1 div.sk-parallel {display: flex;align-items: stretch;justify-content: center;background-color: white;position: relative;}#sk-container-id-1 div.sk-item::before, #sk-container-id-1 div.sk-parallel-item::before {content: \"\";position: absolute;border-left: 1px solid gray;box-sizing: border-box;top: 0;bottom: 0;left: 50%;z-index: -1;}#sk-container-id-1 div.sk-parallel-item {display: flex;flex-direction: column;z-index: 1;position: relative;background-color: white;}#sk-container-id-1 div.sk-parallel-item:first-child::after {align-self: flex-end;width: 50%;}#sk-container-id-1 div.sk-parallel-item:last-child::after {align-self: flex-start;width: 50%;}#sk-container-id-1 div.sk-parallel-item:only-child::after {width: 0;}#sk-container-id-1 div.sk-dashed-wrapped {border: 1px dashed gray;margin: 0 0.4em 0.5em 0.4em;box-sizing: border-box;padding-bottom: 0.4em;background-color: white;}#sk-container-id-1 div.sk-label label {font-family: monospace;font-weight: bold;display: inline-block;line-height: 1.2em;}#sk-container-id-1 div.sk-label-container {text-align: center;}#sk-container-id-1 div.sk-container {/* jupyter's `normalize.less` sets `[hidden] { display: none; }` but bootstrap.min.css set `[hidden] { display: none !important; }` so we also need the `!important` here to be able to override the default hidden behavior on the sphinx rendered scikit-learn.org. See: https://github.com/scikit-learn/scikit-learn/issues/21755 */display: inline-block !important;position: relative;}#sk-container-id-1 div.sk-text-repr-fallback {display: none;}</style><div id=\"sk-container-id-1\" class=\"sk-top-container\"><div class=\"sk-text-repr-fallback\"><pre>MultinomialNB()</pre><b>In a Jupyter environment, please rerun this cell to show the HTML representation or trust the notebook. <br />On GitHub, the HTML representation is unable to render, please try loading this page with nbviewer.org.</b></div><div class=\"sk-container\" hidden><div class=\"sk-item\"><div class=\"sk-estimator sk-toggleable\"><input class=\"sk-toggleable__control sk-hidden--visually\" id=\"sk-estimator-id-1\" type=\"checkbox\" checked><label for=\"sk-estimator-id-1\" class=\"sk-toggleable__label sk-toggleable__label-arrow\">MultinomialNB</label><div class=\"sk-toggleable__content\"><pre>MultinomialNB()</pre></div></div></div></div></div>"
      ],
      "text/plain": [
       "MultinomialNB()"
      ]
     },
     "execution_count": 33,
     "metadata": {},
     "output_type": "execute_result"
    }
   ],
   "source": [
    "# Building model\n",
    "nb_model = MultinomialNB()\n",
    "nb_model.fit(x_train, y_train)"
   ]
  },
  {
   "cell_type": "code",
   "execution_count": 34,
   "id": "6693950e",
   "metadata": {
    "execution": {
     "iopub.execute_input": "2023-07-26T13:40:53.629373Z",
     "iopub.status.busy": "2023-07-26T13:40:53.628948Z",
     "iopub.status.idle": "2023-07-26T13:40:53.641162Z",
     "shell.execute_reply": "2023-07-26T13:40:53.640134Z"
    },
    "papermill": {
     "duration": 0.030548,
     "end_time": "2023-07-26T13:40:53.643369",
     "exception": false,
     "start_time": "2023-07-26T13:40:53.612821",
     "status": "completed"
    },
    "tags": []
   },
   "outputs": [
    {
     "data": {
      "text/plain": [
       "0.844662462041579"
      ]
     },
     "execution_count": 34,
     "metadata": {},
     "output_type": "execute_result"
    }
   ],
   "source": [
    "# Testing accuracy\n",
    "nb_model.score(x_test, y_test)"
   ]
  },
  {
   "cell_type": "code",
   "execution_count": 35,
   "id": "67811035",
   "metadata": {
    "execution": {
     "iopub.execute_input": "2023-07-26T13:40:53.674447Z",
     "iopub.status.busy": "2023-07-26T13:40:53.674056Z",
     "iopub.status.idle": "2023-07-26T13:40:53.681876Z",
     "shell.execute_reply": "2023-07-26T13:40:53.681108Z"
    },
    "papermill": {
     "duration": 0.025708,
     "end_time": "2023-07-26T13:40:53.683840",
     "exception": false,
     "start_time": "2023-07-26T13:40:53.658132",
     "status": "completed"
    },
    "tags": []
   },
   "outputs": [],
   "source": [
    "# Predictions\n",
    "y_predict = nb_model.predict(x_test)"
   ]
  },
  {
   "cell_type": "code",
   "execution_count": 36,
   "id": "88a20b38",
   "metadata": {
    "execution": {
     "iopub.execute_input": "2023-07-26T13:40:53.715111Z",
     "iopub.status.busy": "2023-07-26T13:40:53.714410Z",
     "iopub.status.idle": "2023-07-26T13:40:53.724890Z",
     "shell.execute_reply": "2023-07-26T13:40:53.724080Z"
    },
    "papermill": {
     "duration": 0.028411,
     "end_time": "2023-07-26T13:40:53.726935",
     "exception": false,
     "start_time": "2023-07-26T13:40:53.698524",
     "status": "completed"
    },
    "tags": []
   },
   "outputs": [
    {
     "data": {
      "text/plain": [
       "array([0, 1])"
      ]
     },
     "execution_count": 36,
     "metadata": {},
     "output_type": "execute_result"
    }
   ],
   "source": [
    "#Testing model\n",
    "sample_text=[\"I love coding\"]\n",
    "vector = cv.transform(sample_text).toarray()\n",
    "# Making nb model \n",
    "nb_model.predict(vector)\n",
    "nb_model.predict_proba(vector)\n",
    "nb_model.classes_"
   ]
  },
  {
   "cell_type": "code",
   "execution_count": 37,
   "id": "8d7f4a17",
   "metadata": {
    "execution": {
     "iopub.execute_input": "2023-07-26T13:40:53.759090Z",
     "iopub.status.busy": "2023-07-26T13:40:53.758710Z",
     "iopub.status.idle": "2023-07-26T13:40:53.766420Z",
     "shell.execute_reply": "2023-07-26T13:40:53.765348Z"
    },
    "papermill": {
     "duration": 0.026406,
     "end_time": "2023-07-26T13:40:53.768492",
     "exception": false,
     "start_time": "2023-07-26T13:40:53.742086",
     "status": "completed"
    },
    "tags": []
   },
   "outputs": [
    {
     "data": {
      "text/plain": [
       "0.7162933838787543"
      ]
     },
     "execution_count": 37,
     "metadata": {},
     "output_type": "execute_result"
    }
   ],
   "source": [
    "# Confidence in the result\n",
    "np.max(nb_model.predict_proba(vector))"
   ]
  },
  {
   "cell_type": "code",
   "execution_count": 38,
   "id": "06265ec6",
   "metadata": {
    "execution": {
     "iopub.execute_input": "2023-07-26T13:40:53.801575Z",
     "iopub.status.busy": "2023-07-26T13:40:53.801153Z",
     "iopub.status.idle": "2023-07-26T13:40:53.806192Z",
     "shell.execute_reply": "2023-07-26T13:40:53.804998Z"
    },
    "papermill": {
     "duration": 0.024401,
     "end_time": "2023-07-26T13:40:53.808539",
     "exception": false,
     "start_time": "2023-07-26T13:40:53.784138",
     "status": "completed"
    },
    "tags": []
   },
   "outputs": [],
   "source": [
    "# Packages for logistic regression\n",
    "import numpy as np\n",
    "from sklearn.linear_model import LogisticRegression"
   ]
  },
  {
   "cell_type": "code",
   "execution_count": 39,
   "id": "46e665db",
   "metadata": {
    "execution": {
     "iopub.execute_input": "2023-07-26T13:40:53.841127Z",
     "iopub.status.busy": "2023-07-26T13:40:53.840730Z",
     "iopub.status.idle": "2023-07-26T13:40:53.861460Z",
     "shell.execute_reply": "2023-07-26T13:40:53.860314Z"
    },
    "papermill": {
     "duration": 0.03977,
     "end_time": "2023-07-26T13:40:53.864163",
     "exception": false,
     "start_time": "2023-07-26T13:40:53.824393",
     "status": "completed"
    },
    "tags": []
   },
   "outputs": [],
   "source": [
    "# Splitting the dataset into test and train\n",
    "x_train, x_test, y_train, y_test = train_test_split(x,ylabels, test_size = 0.148, random_state =30 )"
   ]
  },
  {
   "cell_type": "code",
   "execution_count": 40,
   "id": "fe989fdf",
   "metadata": {
    "execution": {
     "iopub.execute_input": "2023-07-26T13:40:53.896057Z",
     "iopub.status.busy": "2023-07-26T13:40:53.895650Z",
     "iopub.status.idle": "2023-07-26T13:40:53.901894Z",
     "shell.execute_reply": "2023-07-26T13:40:53.900745Z"
    },
    "papermill": {
     "duration": 0.024854,
     "end_time": "2023-07-26T13:40:53.904049",
     "exception": false,
     "start_time": "2023-07-26T13:40:53.879195",
     "status": "completed"
    },
    "tags": []
   },
   "outputs": [],
   "source": [
    "#Logistic Regression \n",
    "\n",
    "def predict_classification(sample_text, model):\n",
    "  vector = cv.transform(sample_text).toarray()   # Transforming our text data into vectors\n",
    "  prediction = model.predict(vector)             # Puttting data in model\n",
    "  pred_proba = model.predict_proba(vector)       # Confidence of prediction\n",
    "  pred_percent = dict(zip(model.classes_, pred_proba[0]))\n",
    "  print(prediction)\n",
    "  return pred_percent"
   ]
  },
  {
   "cell_type": "code",
   "execution_count": 41,
   "id": "bc6b6ba3",
   "metadata": {
    "execution": {
     "iopub.execute_input": "2023-07-26T13:40:53.936663Z",
     "iopub.status.busy": "2023-07-26T13:40:53.936295Z",
     "iopub.status.idle": "2023-07-26T13:41:05.930594Z",
     "shell.execute_reply": "2023-07-26T13:41:05.929467Z"
    },
    "papermill": {
     "duration": 12.014978,
     "end_time": "2023-07-26T13:41:05.935067",
     "exception": false,
     "start_time": "2023-07-26T13:40:53.920089",
     "status": "completed"
    },
    "tags": []
   },
   "outputs": [
    {
     "name": "stderr",
     "output_type": "stream",
     "text": [
      "/opt/conda/lib/python3.10/site-packages/sklearn/linear_model/_logistic.py:458: ConvergenceWarning: lbfgs failed to converge (status=1):\n",
      "STOP: TOTAL NO. of ITERATIONS REACHED LIMIT.\n",
      "\n",
      "Increase the number of iterations (max_iter) or scale the data as shown in:\n",
      "    https://scikit-learn.org/stable/modules/preprocessing.html\n",
      "Please also refer to the documentation for alternative solver options:\n",
      "    https://scikit-learn.org/stable/modules/linear_model.html#logistic-regression\n",
      "  n_iter_i = _check_optimize_result(\n"
     ]
    },
    {
     "data": {
      "text/html": [
       "<style>#sk-container-id-2 {color: black;background-color: white;}#sk-container-id-2 pre{padding: 0;}#sk-container-id-2 div.sk-toggleable {background-color: white;}#sk-container-id-2 label.sk-toggleable__label {cursor: pointer;display: block;width: 100%;margin-bottom: 0;padding: 0.3em;box-sizing: border-box;text-align: center;}#sk-container-id-2 label.sk-toggleable__label-arrow:before {content: \"▸\";float: left;margin-right: 0.25em;color: #696969;}#sk-container-id-2 label.sk-toggleable__label-arrow:hover:before {color: black;}#sk-container-id-2 div.sk-estimator:hover label.sk-toggleable__label-arrow:before {color: black;}#sk-container-id-2 div.sk-toggleable__content {max-height: 0;max-width: 0;overflow: hidden;text-align: left;background-color: #f0f8ff;}#sk-container-id-2 div.sk-toggleable__content pre {margin: 0.2em;color: black;border-radius: 0.25em;background-color: #f0f8ff;}#sk-container-id-2 input.sk-toggleable__control:checked~div.sk-toggleable__content {max-height: 200px;max-width: 100%;overflow: auto;}#sk-container-id-2 input.sk-toggleable__control:checked~label.sk-toggleable__label-arrow:before {content: \"▾\";}#sk-container-id-2 div.sk-estimator input.sk-toggleable__control:checked~label.sk-toggleable__label {background-color: #d4ebff;}#sk-container-id-2 div.sk-label input.sk-toggleable__control:checked~label.sk-toggleable__label {background-color: #d4ebff;}#sk-container-id-2 input.sk-hidden--visually {border: 0;clip: rect(1px 1px 1px 1px);clip: rect(1px, 1px, 1px, 1px);height: 1px;margin: -1px;overflow: hidden;padding: 0;position: absolute;width: 1px;}#sk-container-id-2 div.sk-estimator {font-family: monospace;background-color: #f0f8ff;border: 1px dotted black;border-radius: 0.25em;box-sizing: border-box;margin-bottom: 0.5em;}#sk-container-id-2 div.sk-estimator:hover {background-color: #d4ebff;}#sk-container-id-2 div.sk-parallel-item::after {content: \"\";width: 100%;border-bottom: 1px solid gray;flex-grow: 1;}#sk-container-id-2 div.sk-label:hover label.sk-toggleable__label {background-color: #d4ebff;}#sk-container-id-2 div.sk-serial::before {content: \"\";position: absolute;border-left: 1px solid gray;box-sizing: border-box;top: 0;bottom: 0;left: 50%;z-index: 0;}#sk-container-id-2 div.sk-serial {display: flex;flex-direction: column;align-items: center;background-color: white;padding-right: 0.2em;padding-left: 0.2em;position: relative;}#sk-container-id-2 div.sk-item {position: relative;z-index: 1;}#sk-container-id-2 div.sk-parallel {display: flex;align-items: stretch;justify-content: center;background-color: white;position: relative;}#sk-container-id-2 div.sk-item::before, #sk-container-id-2 div.sk-parallel-item::before {content: \"\";position: absolute;border-left: 1px solid gray;box-sizing: border-box;top: 0;bottom: 0;left: 50%;z-index: -1;}#sk-container-id-2 div.sk-parallel-item {display: flex;flex-direction: column;z-index: 1;position: relative;background-color: white;}#sk-container-id-2 div.sk-parallel-item:first-child::after {align-self: flex-end;width: 50%;}#sk-container-id-2 div.sk-parallel-item:last-child::after {align-self: flex-start;width: 50%;}#sk-container-id-2 div.sk-parallel-item:only-child::after {width: 0;}#sk-container-id-2 div.sk-dashed-wrapped {border: 1px dashed gray;margin: 0 0.4em 0.5em 0.4em;box-sizing: border-box;padding-bottom: 0.4em;background-color: white;}#sk-container-id-2 div.sk-label label {font-family: monospace;font-weight: bold;display: inline-block;line-height: 1.2em;}#sk-container-id-2 div.sk-label-container {text-align: center;}#sk-container-id-2 div.sk-container {/* jupyter's `normalize.less` sets `[hidden] { display: none; }` but bootstrap.min.css set `[hidden] { display: none !important; }` so we also need the `!important` here to be able to override the default hidden behavior on the sphinx rendered scikit-learn.org. See: https://github.com/scikit-learn/scikit-learn/issues/21755 */display: inline-block !important;position: relative;}#sk-container-id-2 div.sk-text-repr-fallback {display: none;}</style><div id=\"sk-container-id-2\" class=\"sk-top-container\"><div class=\"sk-text-repr-fallback\"><pre>LogisticRegression(multi_class=&#x27;multinomial&#x27;)</pre><b>In a Jupyter environment, please rerun this cell to show the HTML representation or trust the notebook. <br />On GitHub, the HTML representation is unable to render, please try loading this page with nbviewer.org.</b></div><div class=\"sk-container\" hidden><div class=\"sk-item\"><div class=\"sk-estimator sk-toggleable\"><input class=\"sk-toggleable__control sk-hidden--visually\" id=\"sk-estimator-id-2\" type=\"checkbox\" checked><label for=\"sk-estimator-id-2\" class=\"sk-toggleable__label sk-toggleable__label-arrow\">LogisticRegression</label><div class=\"sk-toggleable__content\"><pre>LogisticRegression(multi_class=&#x27;multinomial&#x27;)</pre></div></div></div></div></div>"
      ],
      "text/plain": [
       "LogisticRegression(multi_class='multinomial')"
      ]
     },
     "execution_count": 41,
     "metadata": {},
     "output_type": "execute_result"
    }
   ],
   "source": [
    "# Making logistic Regression model\n",
    "lr_model = LogisticRegression(multi_class= \"multinomial\")\n",
    "lr_model.fit(x_train,y_train)\n"
   ]
  },
  {
   "cell_type": "code",
   "execution_count": 42,
   "id": "901a4462",
   "metadata": {
    "execution": {
     "iopub.execute_input": "2023-07-26T13:41:06.017407Z",
     "iopub.status.busy": "2023-07-26T13:41:06.017028Z",
     "iopub.status.idle": "2023-07-26T13:41:06.025732Z",
     "shell.execute_reply": "2023-07-26T13:41:06.024841Z"
    },
    "papermill": {
     "duration": 0.034832,
     "end_time": "2023-07-26T13:41:06.027739",
     "exception": false,
     "start_time": "2023-07-26T13:41:05.992907",
     "status": "completed"
    },
    "tags": []
   },
   "outputs": [
    {
     "data": {
      "text/plain": [
       "0.9169282781936731"
      ]
     },
     "execution_count": 42,
     "metadata": {},
     "output_type": "execute_result"
    }
   ],
   "source": [
    "# Testing accuracy\n",
    "lr_model.score(x_test, y_test)"
   ]
  },
  {
   "cell_type": "code",
   "execution_count": 43,
   "id": "e14e0bf3",
   "metadata": {
    "execution": {
     "iopub.execute_input": "2023-07-26T13:41:06.060384Z",
     "iopub.status.busy": "2023-07-26T13:41:06.059662Z",
     "iopub.status.idle": "2023-07-26T13:41:06.071824Z",
     "shell.execute_reply": "2023-07-26T13:41:06.070547Z"
    },
    "papermill": {
     "duration": 0.032531,
     "end_time": "2023-07-26T13:41:06.075523",
     "exception": false,
     "start_time": "2023-07-26T13:41:06.042992",
     "status": "completed"
    },
    "tags": []
   },
   "outputs": [
    {
     "data": {
      "text/plain": [
       "array([0, 1])"
      ]
     },
     "execution_count": 43,
     "metadata": {},
     "output_type": "execute_result"
    }
   ],
   "source": [
    "sample_text=[\"im done trying feel better the reason im still alive know mum devastated ever killed myself ever passes im still state im going hesitate ending life shortly after im almost  take meds go therapy nothing seems help enough dont want around anymore hate feeling like this wouldnt wish upon enemy brain feels like constantly like static tv wont shut overthinking do think im running options dont see living past  got accepted health science degree dont even know wanna try know im smart mental illness holds back think cant anything im good enough need fucking help dont know anymore ive run options\"]\n",
    "vector = cv.transform(sample_text).toarray()\n",
    "lr_model.predict(vector)\n",
    "lr_model.predict_proba(vector)\n",
    "lr_model.classes_"
   ]
  }
 ],
 "metadata": {
  "kernelspec": {
   "display_name": "Python 3",
   "language": "python",
   "name": "python3"
  },
  "language_info": {
   "codemirror_mode": {
    "name": "ipython",
    "version": 3
   },
   "file_extension": ".py",
   "mimetype": "text/x-python",
   "name": "python",
   "nbconvert_exporter": "python",
   "pygments_lexer": "ipython3",
   "version": "3.10.12"
  },
  "papermill": {
   "default_parameters": {},
   "duration": 62.338829,
   "end_time": "2023-07-26T13:41:07.527411",
   "environment_variables": {},
   "exception": null,
   "input_path": "__notebook__.ipynb",
   "output_path": "__notebook__.ipynb",
   "parameters": {},
   "start_time": "2023-07-26T13:40:05.188582",
   "version": "2.4.0"
  }
 },
 "nbformat": 4,
 "nbformat_minor": 5
}
