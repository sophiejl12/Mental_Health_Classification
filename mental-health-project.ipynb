{
 "cells": [
  {
   "cell_type": "markdown",
   "id": "4850d124",
   "metadata": {
    "papermill": {
     "duration": 0.009732,
     "end_time": "2023-07-26T20:41:41.181720",
     "exception": false,
     "start_time": "2023-07-26T20:41:41.171988",
     "status": "completed"
    },
    "tags": []
   },
   "source": [
    "**Introduction:** \n",
    "\n",
    "People use online forms as outlets of expression, and as a result, it is important to identify when responses on social media outlets correlate to poor mental health. Models that use text data from social media outlets can be used to detect signs of mental health issues early, and can therefore encourage earlier intervention. This project aims to make mental health data more accessible and easy to interpret so that more people can acquire help when needed. \n",
    "\n",
    "**Objectives:**\n",
    "1. Clean and preprocess a dataset with subreddits that provide insight to a person's mental health\n",
    "2. Construct graphs to illustrate the distribution of responses\n",
    "3. Conduct sentiment analysis \n",
    "4. Train a Naive Bayes model and a Logistic Regression model to predict if peoples' responses indicate mental illnesses."
   ]
  },
  {
   "cell_type": "code",
   "execution_count": 1,
   "id": "a4b2a774",
   "metadata": {
    "execution": {
     "iopub.execute_input": "2023-07-26T20:41:41.200867Z",
     "iopub.status.busy": "2023-07-26T20:41:41.200503Z",
     "iopub.status.idle": "2023-07-26T20:41:43.005081Z",
     "shell.execute_reply": "2023-07-26T20:41:43.004418Z"
    },
    "papermill": {
     "duration": 1.816623,
     "end_time": "2023-07-26T20:41:43.007104",
     "exception": false,
     "start_time": "2023-07-26T20:41:41.190481",
     "status": "completed"
    },
    "tags": []
   },
   "outputs": [
    {
     "name": "stderr",
     "output_type": "stream",
     "text": [
      "/opt/conda/lib/python3.10/site-packages/scipy/__init__.py:146: UserWarning: A NumPy version >=1.16.5 and <1.23.0 is required for this version of SciPy (detected version 1.23.5\n",
      "  warnings.warn(f\"A NumPy version >={np_minversion} and <{np_maxversion}\"\n"
     ]
    },
    {
     "name": "stdout",
     "output_type": "stream",
     "text": [
      "[nltk_data] Downloading package stopwords to /usr/share/nltk_data...\n",
      "[nltk_data]   Package stopwords is already up-to-date!\n",
      "[nltk_data] Downloading package punkt to /usr/share/nltk_data...\n",
      "[nltk_data]   Package punkt is already up-to-date!\n",
      "[nltk_data] Downloading package wordnet to /usr/share/nltk_data...\n",
      "[nltk_data]   Package wordnet is already up-to-date!\n"
     ]
    }
   ],
   "source": [
    "# Importing python modules and packages\n",
    "\n",
    "# Tools to create a data frame\n",
    "import pandas as pd\n",
    "from pandas import DataFrame\n",
    "\n",
    "# Tools for text preprocessing\n",
    "import nltk\n",
    "import re\n",
    "\n",
    "# Tools to remove stopwords\n",
    "from nltk.corpus import stopwords\n",
    "\n",
    "# Tools for tokenizing\n",
    "from nltk.tokenize.toktok import ToktokTokenizer\n",
    "\n",
    "# Tools for lemmatization\n",
    "from nltk.stem import WordNetLemmatizer\n",
    "nltk.download('stopwords')\n",
    "nltk.download('punkt')\n",
    "nltk.download('wordnet')\n",
    "\n",
    "# Tools for plotting\n",
    "import matplotlib.pyplot as plt\n",
    "\n",
    "# Tools for finding word frequencies\n",
    "from nltk.util import ngrams"
   ]
  },
  {
   "cell_type": "code",
   "execution_count": 2,
   "id": "5a63f217",
   "metadata": {
    "execution": {
     "iopub.execute_input": "2023-07-26T20:41:43.032265Z",
     "iopub.status.busy": "2023-07-26T20:41:43.031818Z",
     "iopub.status.idle": "2023-07-26T20:41:43.330435Z",
     "shell.execute_reply": "2023-07-26T20:41:43.329757Z"
    },
    "papermill": {
     "duration": 0.31241,
     "end_time": "2023-07-26T20:41:43.332518",
     "exception": false,
     "start_time": "2023-07-26T20:41:43.020108",
     "status": "completed"
    },
    "tags": []
   },
   "outputs": [],
   "source": [
    "# Reading in data file\n",
    "data = pd.read_csv('/kaggle/input/mental-health/mental_health.csv')"
   ]
  },
  {
   "cell_type": "code",
   "execution_count": 3,
   "id": "d758adb9",
   "metadata": {
    "execution": {
     "iopub.execute_input": "2023-07-26T20:41:43.352663Z",
     "iopub.status.busy": "2023-07-26T20:41:43.351857Z",
     "iopub.status.idle": "2023-07-26T20:41:43.371366Z",
     "shell.execute_reply": "2023-07-26T20:41:43.370421Z"
    },
    "papermill": {
     "duration": 0.031628,
     "end_time": "2023-07-26T20:41:43.373490",
     "exception": false,
     "start_time": "2023-07-26T20:41:43.341862",
     "status": "completed"
    },
    "tags": []
   },
   "outputs": [
    {
     "data": {
      "text/html": [
       "<div>\n",
       "<style scoped>\n",
       "    .dataframe tbody tr th:only-of-type {\n",
       "        vertical-align: middle;\n",
       "    }\n",
       "\n",
       "    .dataframe tbody tr th {\n",
       "        vertical-align: top;\n",
       "    }\n",
       "\n",
       "    .dataframe thead th {\n",
       "        text-align: right;\n",
       "    }\n",
       "</style>\n",
       "<table border=\"1\" class=\"dataframe\">\n",
       "  <thead>\n",
       "    <tr style=\"text-align: right;\">\n",
       "      <th></th>\n",
       "      <th>text</th>\n",
       "      <th>label</th>\n",
       "    </tr>\n",
       "  </thead>\n",
       "  <tbody>\n",
       "    <tr>\n",
       "      <th>0</th>\n",
       "      <td>dear american teens question dutch person hear...</td>\n",
       "      <td>0</td>\n",
       "    </tr>\n",
       "    <tr>\n",
       "      <th>1</th>\n",
       "      <td>nothing look forward lifei dont many reasons k...</td>\n",
       "      <td>1</td>\n",
       "    </tr>\n",
       "    <tr>\n",
       "      <th>2</th>\n",
       "      <td>music recommendations im looking expand playli...</td>\n",
       "      <td>0</td>\n",
       "    </tr>\n",
       "    <tr>\n",
       "      <th>3</th>\n",
       "      <td>im done trying feel betterthe reason im still ...</td>\n",
       "      <td>1</td>\n",
       "    </tr>\n",
       "    <tr>\n",
       "      <th>4</th>\n",
       "      <td>worried  year old girl subject domestic physic...</td>\n",
       "      <td>1</td>\n",
       "    </tr>\n",
       "    <tr>\n",
       "      <th>5</th>\n",
       "      <td>hey rredflag sure right place post this goes  ...</td>\n",
       "      <td>1</td>\n",
       "    </tr>\n",
       "    <tr>\n",
       "      <th>6</th>\n",
       "      <td>feel like someone needs hear tonight feeling r...</td>\n",
       "      <td>0</td>\n",
       "    </tr>\n",
       "    <tr>\n",
       "      <th>7</th>\n",
       "      <td>deserve liveif died right noone would carei re...</td>\n",
       "      <td>1</td>\n",
       "    </tr>\n",
       "    <tr>\n",
       "      <th>8</th>\n",
       "      <td>feels good ive set dateim killing friday nice ...</td>\n",
       "      <td>1</td>\n",
       "    </tr>\n",
       "    <tr>\n",
       "      <th>9</th>\n",
       "      <td>live guiltok made stupid random choice  its ge...</td>\n",
       "      <td>1</td>\n",
       "    </tr>\n",
       "  </tbody>\n",
       "</table>\n",
       "</div>"
      ],
      "text/plain": [
       "                                                text  label\n",
       "0  dear american teens question dutch person hear...      0\n",
       "1  nothing look forward lifei dont many reasons k...      1\n",
       "2  music recommendations im looking expand playli...      0\n",
       "3  im done trying feel betterthe reason im still ...      1\n",
       "4  worried  year old girl subject domestic physic...      1\n",
       "5  hey rredflag sure right place post this goes  ...      1\n",
       "6  feel like someone needs hear tonight feeling r...      0\n",
       "7  deserve liveif died right noone would carei re...      1\n",
       "8  feels good ive set dateim killing friday nice ...      1\n",
       "9  live guiltok made stupid random choice  its ge...      1"
      ]
     },
     "execution_count": 3,
     "metadata": {},
     "output_type": "execute_result"
    }
   ],
   "source": [
    "# Looking at data\n",
    "data.head(10)"
   ]
  },
  {
   "cell_type": "code",
   "execution_count": 4,
   "id": "5e685bbf",
   "metadata": {
    "execution": {
     "iopub.execute_input": "2023-07-26T20:41:43.394557Z",
     "iopub.status.busy": "2023-07-26T20:41:43.393345Z",
     "iopub.status.idle": "2023-07-26T20:41:43.398667Z",
     "shell.execute_reply": "2023-07-26T20:41:43.398017Z"
    },
    "papermill": {
     "duration": 0.017079,
     "end_time": "2023-07-26T20:41:43.400148",
     "exception": false,
     "start_time": "2023-07-26T20:41:43.383069",
     "status": "completed"
    },
    "tags": []
   },
   "outputs": [],
   "source": [
    "# Cleaning data (again) to ensure all functions have been completed\n",
    "\n",
    "# Removing special characters\n",
    "def remove_special_characters(text, remove_digits=False):\n",
    "    pattern = r'[^a-zA-Z0-9\\s]' if not remove_digits else r'[^a-zA-z\\s]'\n",
    "    text = re.sub(pattern, '', text)\n",
    "    return text"
   ]
  },
  {
   "cell_type": "code",
   "execution_count": 5,
   "id": "04d03e0a",
   "metadata": {
    "execution": {
     "iopub.execute_input": "2023-07-26T20:41:43.420347Z",
     "iopub.status.busy": "2023-07-26T20:41:43.419490Z",
     "iopub.status.idle": "2023-07-26T20:41:43.428148Z",
     "shell.execute_reply": "2023-07-26T20:41:43.427538Z"
    },
    "papermill": {
     "duration": 0.020437,
     "end_time": "2023-07-26T20:41:43.429738",
     "exception": false,
     "start_time": "2023-07-26T20:41:43.409301",
     "status": "completed"
    },
    "tags": []
   },
   "outputs": [],
   "source": [
    "# Removing Stopwords\n",
    "tokenizer = ToktokTokenizer()\n",
    "stopword_list = nltk.corpus.stopwords.words('english')\n",
    "stopword_list.remove('no') \n",
    "stopword_list.remove('not') \n",
    "\n",
    "# Tokenizing \n",
    "def remove_stopwords(text, is_lower_case=False):\n",
    "\n",
    "    tokens = tokenizer.tokenize(text)\n",
    "    # remove whitespaces in each token\n",
    "    tokens = [token.strip() for token in tokens]\n",
    "    \n",
    "    if is_lower_case:\n",
    "        filtered_tokens = [token for token in tokens if token not in stopword_list]\n",
    "  \n",
    "    else:\n",
    "        filtered_tokens = [token for token in tokens if token.lower() not in stopword_list]\n",
    "    filtered_text = ' '.join(filtered_tokens)\n",
    "    return filtered_text"
   ]
  },
  {
   "cell_type": "code",
   "execution_count": 6,
   "id": "c0e11f1c",
   "metadata": {
    "execution": {
     "iopub.execute_input": "2023-07-26T20:41:43.448903Z",
     "iopub.status.busy": "2023-07-26T20:41:43.448604Z",
     "iopub.status.idle": "2023-07-26T20:41:43.452897Z",
     "shell.execute_reply": "2023-07-26T20:41:43.452191Z"
    },
    "papermill": {
     "duration": 0.015592,
     "end_time": "2023-07-26T20:41:43.454381",
     "exception": false,
     "start_time": "2023-07-26T20:41:43.438789",
     "status": "completed"
    },
    "tags": []
   },
   "outputs": [],
   "source": [
    "#%% Stemming\n",
    "\n",
    "def simple_stemmer(text):\n",
    "    ps = nltk.porter.PorterStemmer()\n",
    "\n",
    "    text = ' '.join([ps.stem(word) for word in text.split()])\n",
    "    return text\n"
   ]
  },
  {
   "cell_type": "code",
   "execution_count": 7,
   "id": "b5f2fab9",
   "metadata": {
    "execution": {
     "iopub.execute_input": "2023-07-26T20:41:43.475084Z",
     "iopub.status.busy": "2023-07-26T20:41:43.474467Z",
     "iopub.status.idle": "2023-07-26T20:41:43.479028Z",
     "shell.execute_reply": "2023-07-26T20:41:43.478393Z"
    },
    "papermill": {
     "duration": 0.01648,
     "end_time": "2023-07-26T20:41:43.480495",
     "exception": false,
     "start_time": "2023-07-26T20:41:43.464015",
     "status": "completed"
    },
    "tags": []
   },
   "outputs": [],
   "source": [
    "# Lemmatization\n",
    "# making lowercase\n",
    "wordnet_lemmatizer = WordNetLemmatizer()\n",
    "def lemmatize_text(text):\n",
    "    s = \" \" \n",
    "    t_l = [] # creating an empty list\n",
    "    t_w = nltk.word_tokenize(text) \n",
    " \n",
    "    for w in t_w: # ensuring that only verbs are lemmatized \n",
    "       \n",
    "        l_w = wordnet_lemmatizer.lemmatize(w, pos=\"v\")\n",
    "        # append l_w into the list t_l\n",
    "        t_l.append(l_w)\n",
    "    # making a complete sentence\n",
    "    text = s.join(t_l)\n",
    "    return text"
   ]
  },
  {
   "cell_type": "code",
   "execution_count": 8,
   "id": "35bce36d",
   "metadata": {
    "execution": {
     "iopub.execute_input": "2023-07-26T20:41:43.499816Z",
     "iopub.status.busy": "2023-07-26T20:41:43.499305Z",
     "iopub.status.idle": "2023-07-26T20:41:43.506180Z",
     "shell.execute_reply": "2023-07-26T20:41:43.504959Z"
    },
    "papermill": {
     "duration": 0.018369,
     "end_time": "2023-07-26T20:41:43.507815",
     "exception": false,
     "start_time": "2023-07-26T20:41:43.489446",
     "status": "completed"
    },
    "tags": []
   },
   "outputs": [
    {
     "name": "stdout",
     "output_type": "stream",
     "text": [
      "                                                    text  label\n",
      "0      dear american teens question dutch person hear...      0\n",
      "1      nothing look forward lifei dont many reasons k...      1\n",
      "2      music recommendations im looking expand playli...      0\n",
      "3      im done trying feel betterthe reason im still ...      1\n",
      "4      worried  year old girl subject domestic physic...      1\n",
      "...                                                  ...    ...\n",
      "27972  posting everyday people stop caring  religion ...      0\n",
      "27973  okay definetly need hear guys opinion ive pret...      0\n",
      "27974  cant get dog think ill kill myselfthe last thi...      1\n",
      "27975  whats point princess bridei really think like ...      1\n",
      "27976  got nudes person might might know snapchat do ...      0\n",
      "\n",
      "[27977 rows x 2 columns]\n"
     ]
    }
   ],
   "source": [
    "# Checking cleaned data \n",
    "print(data)"
   ]
  },
  {
   "cell_type": "code",
   "execution_count": 9,
   "id": "29fc0db6",
   "metadata": {
    "execution": {
     "iopub.execute_input": "2023-07-26T20:41:43.526659Z",
     "iopub.status.busy": "2023-07-26T20:41:43.526320Z",
     "iopub.status.idle": "2023-07-26T20:41:43.749094Z",
     "shell.execute_reply": "2023-07-26T20:41:43.747861Z"
    },
    "papermill": {
     "duration": 0.23567,
     "end_time": "2023-07-26T20:41:43.752228",
     "exception": false,
     "start_time": "2023-07-26T20:41:43.516558",
     "status": "completed"
    },
    "tags": []
   },
   "outputs": [],
   "source": [
    "#%% Saving cleaned data\n",
    "data.to_csv(\"Mental_Health_Preprocessed2.csv\")"
   ]
  },
  {
   "cell_type": "code",
   "execution_count": 10,
   "id": "6fbe1119",
   "metadata": {
    "execution": {
     "iopub.execute_input": "2023-07-26T20:41:43.772853Z",
     "iopub.status.busy": "2023-07-26T20:41:43.772489Z",
     "iopub.status.idle": "2023-07-26T20:41:43.777799Z",
     "shell.execute_reply": "2023-07-26T20:41:43.776499Z"
    },
    "papermill": {
     "duration": 0.017568,
     "end_time": "2023-07-26T20:41:43.779729",
     "exception": false,
     "start_time": "2023-07-26T20:41:43.762161",
     "status": "completed"
    },
    "tags": []
   },
   "outputs": [],
   "source": [
    "# Renaming headers\n",
    "new_headers = ['Response','Label']\n",
    "data.columns = new_headers"
   ]
  },
  {
   "cell_type": "code",
   "execution_count": 11,
   "id": "8b4d1d4e",
   "metadata": {
    "execution": {
     "iopub.execute_input": "2023-07-26T20:41:43.799288Z",
     "iopub.status.busy": "2023-07-26T20:41:43.798966Z",
     "iopub.status.idle": "2023-07-26T20:41:43.807423Z",
     "shell.execute_reply": "2023-07-26T20:41:43.806605Z"
    },
    "papermill": {
     "duration": 0.020312,
     "end_time": "2023-07-26T20:41:43.809158",
     "exception": false,
     "start_time": "2023-07-26T20:41:43.788846",
     "status": "completed"
    },
    "tags": []
   },
   "outputs": [
    {
     "data": {
      "text/html": [
       "<div>\n",
       "<style scoped>\n",
       "    .dataframe tbody tr th:only-of-type {\n",
       "        vertical-align: middle;\n",
       "    }\n",
       "\n",
       "    .dataframe tbody tr th {\n",
       "        vertical-align: top;\n",
       "    }\n",
       "\n",
       "    .dataframe thead th {\n",
       "        text-align: right;\n",
       "    }\n",
       "</style>\n",
       "<table border=\"1\" class=\"dataframe\">\n",
       "  <thead>\n",
       "    <tr style=\"text-align: right;\">\n",
       "      <th></th>\n",
       "      <th>Response</th>\n",
       "      <th>Label</th>\n",
       "    </tr>\n",
       "  </thead>\n",
       "  <tbody>\n",
       "    <tr>\n",
       "      <th>0</th>\n",
       "      <td>dear american teens question dutch person hear...</td>\n",
       "      <td>0</td>\n",
       "    </tr>\n",
       "    <tr>\n",
       "      <th>1</th>\n",
       "      <td>nothing look forward lifei dont many reasons k...</td>\n",
       "      <td>1</td>\n",
       "    </tr>\n",
       "    <tr>\n",
       "      <th>2</th>\n",
       "      <td>music recommendations im looking expand playli...</td>\n",
       "      <td>0</td>\n",
       "    </tr>\n",
       "    <tr>\n",
       "      <th>3</th>\n",
       "      <td>im done trying feel betterthe reason im still ...</td>\n",
       "      <td>1</td>\n",
       "    </tr>\n",
       "    <tr>\n",
       "      <th>4</th>\n",
       "      <td>worried  year old girl subject domestic physic...</td>\n",
       "      <td>1</td>\n",
       "    </tr>\n",
       "    <tr>\n",
       "      <th>5</th>\n",
       "      <td>hey rredflag sure right place post this goes  ...</td>\n",
       "      <td>1</td>\n",
       "    </tr>\n",
       "    <tr>\n",
       "      <th>6</th>\n",
       "      <td>feel like someone needs hear tonight feeling r...</td>\n",
       "      <td>0</td>\n",
       "    </tr>\n",
       "    <tr>\n",
       "      <th>7</th>\n",
       "      <td>deserve liveif died right noone would carei re...</td>\n",
       "      <td>1</td>\n",
       "    </tr>\n",
       "    <tr>\n",
       "      <th>8</th>\n",
       "      <td>feels good ive set dateim killing friday nice ...</td>\n",
       "      <td>1</td>\n",
       "    </tr>\n",
       "    <tr>\n",
       "      <th>9</th>\n",
       "      <td>live guiltok made stupid random choice  its ge...</td>\n",
       "      <td>1</td>\n",
       "    </tr>\n",
       "  </tbody>\n",
       "</table>\n",
       "</div>"
      ],
      "text/plain": [
       "                                            Response  Label\n",
       "0  dear american teens question dutch person hear...      0\n",
       "1  nothing look forward lifei dont many reasons k...      1\n",
       "2  music recommendations im looking expand playli...      0\n",
       "3  im done trying feel betterthe reason im still ...      1\n",
       "4  worried  year old girl subject domestic physic...      1\n",
       "5  hey rredflag sure right place post this goes  ...      1\n",
       "6  feel like someone needs hear tonight feeling r...      0\n",
       "7  deserve liveif died right noone would carei re...      1\n",
       "8  feels good ive set dateim killing friday nice ...      1\n",
       "9  live guiltok made stupid random choice  its ge...      1"
      ]
     },
     "execution_count": 11,
     "metadata": {},
     "output_type": "execute_result"
    }
   ],
   "source": [
    "# Checking new headers\n",
    "data.head(10)"
   ]
  },
  {
   "cell_type": "code",
   "execution_count": 12,
   "id": "d4c105cb",
   "metadata": {
    "execution": {
     "iopub.execute_input": "2023-07-26T20:41:43.828790Z",
     "iopub.status.busy": "2023-07-26T20:41:43.828458Z",
     "iopub.status.idle": "2023-07-26T20:41:43.840140Z",
     "shell.execute_reply": "2023-07-26T20:41:43.839154Z"
    },
    "papermill": {
     "duration": 0.024105,
     "end_time": "2023-07-26T20:41:43.842257",
     "exception": false,
     "start_time": "2023-07-26T20:41:43.818152",
     "status": "completed"
    },
    "tags": []
   },
   "outputs": [],
   "source": [
    "# Exploratory Data Analysis\n",
    "# zero (0) means not flagged as mental illness, one (1) means flagged as mental illness\n",
    "groups = data.groupby('Label').agg({'Label':'count'})\n"
   ]
  },
  {
   "cell_type": "code",
   "execution_count": 13,
   "id": "c0c8b198",
   "metadata": {
    "execution": {
     "iopub.execute_input": "2023-07-26T20:41:43.863226Z",
     "iopub.status.busy": "2023-07-26T20:41:43.862903Z",
     "iopub.status.idle": "2023-07-26T20:41:44.066796Z",
     "shell.execute_reply": "2023-07-26T20:41:44.065832Z"
    },
    "papermill": {
     "duration": 0.21647,
     "end_time": "2023-07-26T20:41:44.068488",
     "exception": false,
     "start_time": "2023-07-26T20:41:43.852018",
     "status": "completed"
    },
    "tags": []
   },
   "outputs": [
    {
     "data": {
      "image/png": "[encoded data removed]",
      "text/plain": [
       "<Figure size 640x480 with 1 Axes>"
      ]
     },
     "metadata": {},
     "output_type": "display_data"
    }
   ],
   "source": [
    "# Creating a bar graph to compare the number of responses in each category (not mental illness vs. mental illness)\n",
    "bars = plt.bar(range(2),groups.Label,color=('crimson','turquoise'))\n",
    "\n",
    "plt.xlabel('Unflagged Or Flagged')\n",
    "plt.ylabel('Count')\n",
    "plt.title('Number of Unflagged and Flagged Responses')\n",
    "\n",
    "\n",
    "plt.xticks([0,1])\n",
    "\n",
    "plt.show()"
   ]
  },
  {
   "cell_type": "code",
   "execution_count": 14,
   "id": "c635f15a",
   "metadata": {
    "execution": {
     "iopub.execute_input": "2023-07-26T20:41:44.088974Z",
     "iopub.status.busy": "2023-07-26T20:41:44.088637Z",
     "iopub.status.idle": "2023-07-26T20:41:46.358065Z",
     "shell.execute_reply": "2023-07-26T20:41:46.356648Z"
    },
    "papermill": {
     "duration": 2.282078,
     "end_time": "2023-07-26T20:41:46.360244",
     "exception": false,
     "start_time": "2023-07-26T20:41:44.078166",
     "status": "completed"
    },
    "tags": []
   },
   "outputs": [],
   "source": [
    "# Creating a bigram for reponses labeled 0\n",
    "Mental_Health_Word =[]\n",
    "for words in data[data.Label == 0].Response:\n",
    "    tokens = tokenizer.tokenize(words)\n",
    "    for token in tokens:\n",
    "       Mental_Health_Word.append(token)\n",
    "mental_health_bigrams_series = (pd.Series(nltk.ngrams(Mental_Health_Word,2)).value_counts())[:20]"
   ]
  },
  {
   "cell_type": "code",
   "execution_count": 15,
   "id": "bd249316",
   "metadata": {
    "execution": {
     "iopub.execute_input": "2023-07-26T20:41:46.382837Z",
     "iopub.status.busy": "2023-07-26T20:41:46.382462Z",
     "iopub.status.idle": "2023-07-26T20:41:48.896834Z",
     "shell.execute_reply": "2023-07-26T20:41:48.895741Z"
    },
    "papermill": {
     "duration": 2.528102,
     "end_time": "2023-07-26T20:41:48.899091",
     "exception": false,
     "start_time": "2023-07-26T20:41:46.370989",
     "status": "completed"
    },
    "tags": []
   },
   "outputs": [],
   "source": [
    "\n",
    "Mental_Health_Word = []\n",
    "\n",
    "for words in data[data.Label == 0].Response:\n",
    "    tokens = tokenizer.tokenize(words)\n",
    "    for token in tokens:\n",
    "        # Addding if condition to filter out \"br\" and \"filler\" and \"gtpopIt\" \n",
    "        if token.lower() not in [\"br\", \"filler\", \"gtpoplt\"]:\n",
    "            Mental_Health_Word.append(token.lower())  # Convert to lowercase for consistency\n",
    "\n",
    "mental_health_bigrams_series = pd.Series(nltk.ngrams(Mental_Health_Word, 2)).value_counts()[:20]\n"
   ]
  },
  {
   "cell_type": "code",
   "execution_count": 16,
   "id": "ffbb805f",
   "metadata": {
    "execution": {
     "iopub.execute_input": "2023-07-26T20:41:48.919995Z",
     "iopub.status.busy": "2023-07-26T20:41:48.919649Z",
     "iopub.status.idle": "2023-07-26T20:41:49.283482Z",
     "shell.execute_reply": "2023-07-26T20:41:49.282665Z"
    },
    "papermill": {
     "duration": 0.376181,
     "end_time": "2023-07-26T20:41:49.285133",
     "exception": false,
     "start_time": "2023-07-26T20:41:48.908952",
     "status": "completed"
    },
    "tags": []
   },
   "outputs": [
    {
     "data": {
      "text/plain": [
       "Text(0, 0.5, 'Bigram')"
      ]
     },
     "execution_count": 16,
     "metadata": {},
     "output_type": "execute_result"
    },
    {
     "data": {
      "image/png": "[encoded data removed]",
      "text/plain": [
       "<Figure size 1200x800 with 1 Axes>"
      ]
     },
     "metadata": {},
     "output_type": "display_data"
    }
   ],
   "source": [
    "# Creating a plot of the number of bigrams for unflagged responses\n",
    "mental_health_bigrams_series.sort_values().plot.barh(color='crimson', width=.9, figsize=(12, 8))\n",
    "plt.title('20 Most Frequently Occuring Bigrams In Responses that do not Indicate Mental Illness')\n",
    "plt.ylabel('Bigram')"
   ]
  },
  {
   "cell_type": "code",
   "execution_count": 17,
   "id": "bfe661bd",
   "metadata": {
    "execution": {
     "iopub.execute_input": "2023-07-26T20:41:49.307651Z",
     "iopub.status.busy": "2023-07-26T20:41:49.306554Z",
     "iopub.status.idle": "2023-07-26T20:41:53.351222Z",
     "shell.execute_reply": "2023-07-26T20:41:53.349987Z"
    },
    "papermill": {
     "duration": 4.058111,
     "end_time": "2023-07-26T20:41:53.353537",
     "exception": false,
     "start_time": "2023-07-26T20:41:49.295426",
     "status": "completed"
    },
    "tags": []
   },
   "outputs": [],
   "source": [
    "# Creating a bigram for responses labeled 1\n",
    "Mental_Health_Word =[]\n",
    "for words in data[data.Label == 1].Response:\n",
    "    tokens = tokenizer.tokenize(words)\n",
    "    for token in tokens:\n",
    "       Mental_Health_Word.append(token)\n",
    "mental_health_bigrams_series = (pd.Series(nltk.ngrams(Mental_Health_Word,2)).value_counts())[:20]"
   ]
  },
  {
   "cell_type": "code",
   "execution_count": 18,
   "id": "51410da8",
   "metadata": {
    "execution": {
     "iopub.execute_input": "2023-07-26T20:41:53.376252Z",
     "iopub.status.busy": "2023-07-26T20:41:53.375939Z",
     "iopub.status.idle": "2023-07-26T20:41:53.724820Z",
     "shell.execute_reply": "2023-07-26T20:41:53.723468Z"
    },
    "papermill": {
     "duration": 0.362382,
     "end_time": "2023-07-26T20:41:53.726792",
     "exception": false,
     "start_time": "2023-07-26T20:41:53.364410",
     "status": "completed"
    },
    "tags": []
   },
   "outputs": [
    {
     "data": {
      "text/plain": [
       "Text(0.5, 0, 'Frequency')"
      ]
     },
     "execution_count": 18,
     "metadata": {},
     "output_type": "execute_result"
    },
    {
     "data": {
      "image/png": "[encoded data removed]",
      "text/plain": [
       "<Figure size 1200x800 with 1 Axes>"
      ]
     },
     "metadata": {},
     "output_type": "display_data"
    }
   ],
   "source": [
    "# Creating a plot of the number of bigrams for flagged responses\n",
    "mental_health_bigrams_series.sort_values().plot.barh(color='turquoise', width=.9, figsize=(12, 8))\n",
    "plt.title('20 Most Frequently Occuring Bigrams in Responses that Indicate Mental Illness')\n",
    "plt.ylabel('Bigram')\n",
    "plt.xlabel('Frequency')"
   ]
  },
  {
   "cell_type": "code",
   "execution_count": 19,
   "id": "04a37bed",
   "metadata": {
    "execution": {
     "iopub.execute_input": "2023-07-26T20:41:53.750750Z",
     "iopub.status.busy": "2023-07-26T20:41:53.750379Z",
     "iopub.status.idle": "2023-07-26T20:41:54.113099Z",
     "shell.execute_reply": "2023-07-26T20:41:54.112140Z"
    },
    "papermill": {
     "duration": 0.37775,
     "end_time": "2023-07-26T20:41:54.115749",
     "exception": false,
     "start_time": "2023-07-26T20:41:53.737999",
     "status": "completed"
    },
    "tags": []
   },
   "outputs": [],
   "source": [
    "# Importing python packages\n",
    "import pandas as pd\n",
    "import numpy as np\n",
    "\n",
    "# Packages for classification\n",
    "from sklearn.svm import SVC\n",
    "from sklearn.metrics import accuracy_score\n",
    "\n",
    "# Packages for plotting\n",
    "import matplotlib.pyplot as plt\n",
    "import seaborn as sns"
   ]
  },
  {
   "cell_type": "code",
   "execution_count": 20,
   "id": "f8717056",
   "metadata": {
    "execution": {
     "iopub.execute_input": "2023-07-26T20:41:54.139587Z",
     "iopub.status.busy": "2023-07-26T20:41:54.139190Z",
     "iopub.status.idle": "2023-07-26T20:41:54.145585Z",
     "shell.execute_reply": "2023-07-26T20:41:54.144596Z"
    },
    "papermill": {
     "duration": 0.020086,
     "end_time": "2023-07-26T20:41:54.147253",
     "exception": false,
     "start_time": "2023-07-26T20:41:54.127167",
     "status": "completed"
    },
    "tags": []
   },
   "outputs": [
    {
     "data": {
      "text/plain": [
       "(27977, 2)"
      ]
     },
     "execution_count": 20,
     "metadata": {},
     "output_type": "execute_result"
    }
   ],
   "source": [
    "# Looking at number of rows and columns\n",
    "data.shape"
   ]
  },
  {
   "cell_type": "code",
   "execution_count": 21,
   "id": "8d1432e9",
   "metadata": {
    "execution": {
     "iopub.execute_input": "2023-07-26T20:41:54.170510Z",
     "iopub.status.busy": "2023-07-26T20:41:54.169664Z",
     "iopub.status.idle": "2023-07-26T20:41:54.175472Z",
     "shell.execute_reply": "2023-07-26T20:41:54.174897Z"
    },
    "papermill": {
     "duration": 0.019004,
     "end_time": "2023-07-26T20:41:54.176984",
     "exception": false,
     "start_time": "2023-07-26T20:41:54.157980",
     "status": "completed"
    },
    "tags": []
   },
   "outputs": [
    {
     "data": {
      "text/plain": [
       "Response    object\n",
       "Label        int64\n",
       "dtype: object"
      ]
     },
     "execution_count": 21,
     "metadata": {},
     "output_type": "execute_result"
    }
   ],
   "source": [
    "# Looking at the data types \n",
    "data.dtypes"
   ]
  },
  {
   "cell_type": "code",
   "execution_count": 22,
   "id": "dc039d22",
   "metadata": {
    "execution": {
     "iopub.execute_input": "2023-07-26T20:41:54.200521Z",
     "iopub.status.busy": "2023-07-26T20:41:54.199808Z",
     "iopub.status.idle": "2023-07-26T20:41:54.244877Z",
     "shell.execute_reply": "2023-07-26T20:41:54.243829Z"
    },
    "papermill": {
     "duration": 0.059323,
     "end_time": "2023-07-26T20:41:54.247279",
     "exception": false,
     "start_time": "2023-07-26T20:41:54.187956",
     "status": "completed"
    },
    "tags": []
   },
   "outputs": [],
   "source": [
    "# Package for Sentiment analysis\n",
    "from textblob import TextBlob"
   ]
  },
  {
   "cell_type": "code",
   "execution_count": 23,
   "id": "e79e5480",
   "metadata": {
    "execution": {
     "iopub.execute_input": "2023-07-26T20:41:54.272070Z",
     "iopub.status.busy": "2023-07-26T20:41:54.271703Z",
     "iopub.status.idle": "2023-07-26T20:41:54.277108Z",
     "shell.execute_reply": "2023-07-26T20:41:54.275951Z"
    },
    "papermill": {
     "duration": 0.020077,
     "end_time": "2023-07-26T20:41:54.279116",
     "exception": false,
     "start_time": "2023-07-26T20:41:54.259039",
     "status": "completed"
    },
    "tags": []
   },
   "outputs": [],
   "source": [
    "# Definition for sentiment analysis\n",
    "def get_sentiment(Response):\n",
    "\n",
    "# Putting text in textblob\n",
    "  blob = TextBlob(Response)\n",
    "\n",
    "# Polarity score\n",
    "  sentiment = blob.sentiment.polarity\n",
    "\n",
    "# Putting the score into categories (positive, negative, neutral)\n",
    "  if sentiment > 0:\n",
    "    result = \"Positive\"\n",
    "  elif sentiment < 0:\n",
    "    result = \"Negative\"\n",
    "  else:\n",
    "    result = \"Neutral\"\n",
    "  return result"
   ]
  },
  {
   "cell_type": "code",
   "execution_count": 24,
   "id": "b9ff9aa9",
   "metadata": {
    "execution": {
     "iopub.execute_input": "2023-07-26T20:41:54.302856Z",
     "iopub.status.busy": "2023-07-26T20:41:54.302500Z",
     "iopub.status.idle": "2023-07-26T20:41:54.502180Z",
     "shell.execute_reply": "2023-07-26T20:41:54.501226Z"
    },
    "papermill": {
     "duration": 0.213252,
     "end_time": "2023-07-26T20:41:54.503869",
     "exception": false,
     "start_time": "2023-07-26T20:41:54.290617",
     "status": "completed"
    },
    "tags": []
   },
   "outputs": [
    {
     "data": {
      "text/plain": [
       "'Negative'"
      ]
     },
     "execution_count": 24,
     "metadata": {},
     "output_type": "execute_result"
    }
   ],
   "source": [
    "# Using a response to test sentiment analysis\n",
    "get_sentiment (\"im done trying feel betterthe reason im still alive know mum devastated ever killed myself ever passes im still state im going hesitate ending life shortly after im almost  take meds go therapy nothing seems help enough dont want around anymore hate feeling like this wouldnt wish upon enemy brain feels like constantly like static tv wont shut overthinking do think im running options dont see living past  got accepted health science degree dont even know wanna try know im smart mental illness holds back think cant anything im good enough need fucking help dont know anymore ive run options\")"
   ]
  },
  {
   "cell_type": "code",
   "execution_count": 25,
   "id": "b1279ad0",
   "metadata": {
    "execution": {
     "iopub.execute_input": "2023-07-26T20:41:54.527352Z",
     "iopub.status.busy": "2023-07-26T20:41:54.527014Z",
     "iopub.status.idle": "2023-07-26T20:42:07.043274Z",
     "shell.execute_reply": "2023-07-26T20:42:07.042059Z"
    },
    "papermill": {
     "duration": 12.530817,
     "end_time": "2023-07-26T20:42:07.045879",
     "exception": false,
     "start_time": "2023-07-26T20:41:54.515062",
     "status": "completed"
    },
    "tags": []
   },
   "outputs": [],
   "source": [
    "# Getting the sentiment of the entire dataset \n",
    "data['Sentiment'] = data['Response'].apply(get_sentiment)\n"
   ]
  },
  {
   "cell_type": "code",
   "execution_count": 26,
   "id": "ad2710ca",
   "metadata": {
    "execution": {
     "iopub.execute_input": "2023-07-26T20:42:07.078353Z",
     "iopub.status.busy": "2023-07-26T20:42:07.077803Z",
     "iopub.status.idle": "2023-07-26T20:42:07.087818Z",
     "shell.execute_reply": "2023-07-26T20:42:07.086460Z"
    },
    "papermill": {
     "duration": 0.027362,
     "end_time": "2023-07-26T20:42:07.089739",
     "exception": false,
     "start_time": "2023-07-26T20:42:07.062377",
     "status": "completed"
    },
    "tags": []
   },
   "outputs": [
    {
     "data": {
      "text/html": [
       "<div>\n",
       "<style scoped>\n",
       "    .dataframe tbody tr th:only-of-type {\n",
       "        vertical-align: middle;\n",
       "    }\n",
       "\n",
       "    .dataframe tbody tr th {\n",
       "        vertical-align: top;\n",
       "    }\n",
       "\n",
       "    .dataframe thead th {\n",
       "        text-align: right;\n",
       "    }\n",
       "</style>\n",
       "<table border=\"1\" class=\"dataframe\">\n",
       "  <thead>\n",
       "    <tr style=\"text-align: right;\">\n",
       "      <th></th>\n",
       "      <th>Response</th>\n",
       "      <th>Label</th>\n",
       "      <th>Sentiment</th>\n",
       "    </tr>\n",
       "  </thead>\n",
       "  <tbody>\n",
       "    <tr>\n",
       "      <th>0</th>\n",
       "      <td>dear american teens question dutch person hear...</td>\n",
       "      <td>0</td>\n",
       "      <td>Positive</td>\n",
       "    </tr>\n",
       "    <tr>\n",
       "      <th>1</th>\n",
       "      <td>nothing look forward lifei dont many reasons k...</td>\n",
       "      <td>1</td>\n",
       "      <td>Positive</td>\n",
       "    </tr>\n",
       "    <tr>\n",
       "      <th>2</th>\n",
       "      <td>music recommendations im looking expand playli...</td>\n",
       "      <td>0</td>\n",
       "      <td>Positive</td>\n",
       "    </tr>\n",
       "    <tr>\n",
       "      <th>3</th>\n",
       "      <td>im done trying feel betterthe reason im still ...</td>\n",
       "      <td>1</td>\n",
       "      <td>Negative</td>\n",
       "    </tr>\n",
       "    <tr>\n",
       "      <th>4</th>\n",
       "      <td>worried  year old girl subject domestic physic...</td>\n",
       "      <td>1</td>\n",
       "      <td>Negative</td>\n",
       "    </tr>\n",
       "    <tr>\n",
       "      <th>5</th>\n",
       "      <td>hey rredflag sure right place post this goes  ...</td>\n",
       "      <td>1</td>\n",
       "      <td>Positive</td>\n",
       "    </tr>\n",
       "    <tr>\n",
       "      <th>6</th>\n",
       "      <td>feel like someone needs hear tonight feeling r...</td>\n",
       "      <td>0</td>\n",
       "      <td>Positive</td>\n",
       "    </tr>\n",
       "    <tr>\n",
       "      <th>7</th>\n",
       "      <td>deserve liveif died right noone would carei re...</td>\n",
       "      <td>1</td>\n",
       "      <td>Positive</td>\n",
       "    </tr>\n",
       "    <tr>\n",
       "      <th>8</th>\n",
       "      <td>feels good ive set dateim killing friday nice ...</td>\n",
       "      <td>1</td>\n",
       "      <td>Positive</td>\n",
       "    </tr>\n",
       "    <tr>\n",
       "      <th>9</th>\n",
       "      <td>live guiltok made stupid random choice  its ge...</td>\n",
       "      <td>1</td>\n",
       "      <td>Negative</td>\n",
       "    </tr>\n",
       "  </tbody>\n",
       "</table>\n",
       "</div>"
      ],
      "text/plain": [
       "                                            Response  Label Sentiment\n",
       "0  dear american teens question dutch person hear...      0  Positive\n",
       "1  nothing look forward lifei dont many reasons k...      1  Positive\n",
       "2  music recommendations im looking expand playli...      0  Positive\n",
       "3  im done trying feel betterthe reason im still ...      1  Negative\n",
       "4  worried  year old girl subject domestic physic...      1  Negative\n",
       "5  hey rredflag sure right place post this goes  ...      1  Positive\n",
       "6  feel like someone needs hear tonight feeling r...      0  Positive\n",
       "7  deserve liveif died right noone would carei re...      1  Positive\n",
       "8  feels good ive set dateim killing friday nice ...      1  Positive\n",
       "9  live guiltok made stupid random choice  its ge...      1  Negative"
      ]
     },
     "execution_count": 26,
     "metadata": {},
     "output_type": "execute_result"
    }
   ],
   "source": [
    "# Checking data \n",
    "data.head(10)"
   ]
  },
  {
   "cell_type": "code",
   "execution_count": 27,
   "id": "d26afea7",
   "metadata": {
    "execution": {
     "iopub.execute_input": "2023-07-26T20:42:07.117586Z",
     "iopub.status.busy": "2023-07-26T20:42:07.116779Z",
     "iopub.status.idle": "2023-07-26T20:42:07.131428Z",
     "shell.execute_reply": "2023-07-26T20:42:07.130622Z"
    },
    "papermill": {
     "duration": 0.029366,
     "end_time": "2023-07-26T20:42:07.133264",
     "exception": false,
     "start_time": "2023-07-26T20:42:07.103898",
     "status": "completed"
    },
    "tags": []
   },
   "outputs": [
    {
     "data": {
      "text/plain": [
       "Label  Sentiment\n",
       "0      Negative     4249\n",
       "       Neutral      2188\n",
       "       Positive     7702\n",
       "1      Negative     6929\n",
       "       Neutral       709\n",
       "       Positive     6200\n",
       "dtype: int64"
      ]
     },
     "execution_count": 27,
     "metadata": {},
     "output_type": "execute_result"
    }
   ],
   "source": [
    "# Comparing the labels to sentiment\n",
    "data.groupby(['Label', 'Sentiment']).size()"
   ]
  },
  {
   "cell_type": "code",
   "execution_count": 28,
   "id": "351d86e2",
   "metadata": {
    "execution": {
     "iopub.execute_input": "2023-07-26T20:42:07.158901Z",
     "iopub.status.busy": "2023-07-26T20:42:07.158343Z",
     "iopub.status.idle": "2023-07-26T20:42:07.544989Z",
     "shell.execute_reply": "2023-07-26T20:42:07.544145Z"
    },
    "papermill": {
     "duration": 0.401666,
     "end_time": "2023-07-26T20:42:07.546673",
     "exception": false,
     "start_time": "2023-07-26T20:42:07.145007",
     "status": "completed"
    },
    "tags": []
   },
   "outputs": [
    {
     "name": "stderr",
     "output_type": "stream",
     "text": [
      "/opt/conda/lib/python3.10/site-packages/seaborn/axisgrid.py:118: UserWarning: The figure layout has changed to tight\n",
      "  self._figure.tight_layout(*args, **kwargs)\n"
     ]
    },
    {
     "data": {
      "text/plain": [
       "<seaborn.axisgrid.FacetGrid at 0x7988a7aaa950>"
      ]
     },
     "execution_count": 28,
     "metadata": {},
     "output_type": "execute_result"
    },
    {
     "data": {
      "image/png": "[encoded data removed]",
      "text/plain": [
       "<Figure size 862.5x500 with 1 Axes>"
      ]
     },
     "metadata": {},
     "output_type": "display_data"
    }
   ],
   "source": [
    "# Making a catplot\n",
    "custom_colors = (\"Turquoise\", \"Crimson\", \"Gold\")\n",
    "sns.catplot(x = 'Label', data = data, hue = 'Sentiment', kind = 'count', aspect = 1.5, palette=custom_colors).set(title = 'Varying Sentiment Across Responses')"
   ]
  },
  {
   "cell_type": "code",
   "execution_count": 29,
   "id": "4f0e629a",
   "metadata": {
    "execution": {
     "iopub.execute_input": "2023-07-26T20:42:07.573213Z",
     "iopub.status.busy": "2023-07-26T20:42:07.572417Z",
     "iopub.status.idle": "2023-07-26T20:42:07.584712Z",
     "shell.execute_reply": "2023-07-26T20:42:07.583822Z"
    },
    "papermill": {
     "duration": 0.027508,
     "end_time": "2023-07-26T20:42:07.586483",
     "exception": false,
     "start_time": "2023-07-26T20:42:07.558975",
     "status": "completed"
    },
    "tags": []
   },
   "outputs": [],
   "source": [
    "# Packages for machine learning model \n",
    "from sklearn.feature_extraction.text import CountVectorizer, TfidfVectorizer\n",
    "from sklearn.metrics import accuracy_score, classification_report\n",
    "from sklearn.model_selection import train_test_split\n",
    "from sklearn.naive_bayes import MultinomialNB\n"
   ]
  },
  {
   "cell_type": "code",
   "execution_count": 30,
   "id": "e1ddd98a",
   "metadata": {
    "execution": {
     "iopub.execute_input": "2023-07-26T20:42:07.612838Z",
     "iopub.status.busy": "2023-07-26T20:42:07.612451Z",
     "iopub.status.idle": "2023-07-26T20:42:11.560546Z",
     "shell.execute_reply": "2023-07-26T20:42:11.559351Z"
    },
    "papermill": {
     "duration": 3.963569,
     "end_time": "2023-07-26T20:42:11.562531",
     "exception": false,
     "start_time": "2023-07-26T20:42:07.598962",
     "status": "completed"
    },
    "tags": []
   },
   "outputs": [
    {
     "name": "stdout",
     "output_type": "stream",
     "text": [
      "[[0 0 0 ... 0 0 0]\n",
      " [0 0 0 ... 0 0 0]\n",
      " [0 0 0 ... 0 0 0]\n",
      " ...\n",
      " [0 0 0 ... 0 0 0]\n",
      " [0 0 0 ... 0 0 0]\n",
      " [0 0 0 ... 0 0 0]]\n"
     ]
    }
   ],
   "source": [
    "# Feature Extraction\n",
    "# importing Count Vectorizer \n",
    "count_vec=CountVectorizer()\n",
    "count_vec.fit(data['Response'])\n",
    "data_features = count_vec.transform(data['Response'])\n",
    "# making an array\n",
    "feature_matrix = data_features.toarray()\n",
    "print(feature_matrix)"
   ]
  },
  {
   "cell_type": "code",
   "execution_count": 31,
   "id": "93d64c26",
   "metadata": {
    "execution": {
     "iopub.execute_input": "2023-07-26T20:42:11.588168Z",
     "iopub.status.busy": "2023-07-26T20:42:11.587842Z",
     "iopub.status.idle": "2023-07-26T20:42:11.592061Z",
     "shell.execute_reply": "2023-07-26T20:42:11.591062Z"
    },
    "papermill": {
     "duration": 0.01934,
     "end_time": "2023-07-26T20:42:11.593845",
     "exception": false,
     "start_time": "2023-07-26T20:42:11.574505",
     "status": "completed"
    },
    "tags": []
   },
   "outputs": [],
   "source": [
    "# Building Features from text\n",
    "xFeatures = data[\"Response\"]\n",
    "ylabels = data[\"Label\"]"
   ]
  },
  {
   "cell_type": "code",
   "execution_count": 32,
   "id": "887dceec",
   "metadata": {
    "execution": {
     "iopub.execute_input": "2023-07-26T20:42:11.620677Z",
     "iopub.status.busy": "2023-07-26T20:42:11.620318Z",
     "iopub.status.idle": "2023-07-26T20:42:13.214629Z",
     "shell.execute_reply": "2023-07-26T20:42:13.213499Z"
    },
    "papermill": {
     "duration": 1.610164,
     "end_time": "2023-07-26T20:42:13.216957",
     "exception": false,
     "start_time": "2023-07-26T20:42:11.606793",
     "status": "completed"
    },
    "tags": []
   },
   "outputs": [
    {
     "data": {
      "text/plain": [
       "array(['__', '___', '____', ..., 'zzuckerberg', 'zzzz',\n",
       "       'zzzzzzzzzzzzzzzzzzzzzzzzzzzzzzzzzzzzzzzzzzzzzz'], dtype=object)"
      ]
     },
     "execution_count": 32,
     "metadata": {},
     "output_type": "execute_result"
    }
   ],
   "source": [
    "# Getting feature names\n",
    "cv = CountVectorizer()\n",
    "x = cv.fit_transform(xFeatures)\n",
    "cv.get_feature_names_out()"
   ]
  },
  {
   "cell_type": "code",
   "execution_count": 33,
   "id": "88bee41f",
   "metadata": {
    "execution": {
     "iopub.execute_input": "2023-07-26T20:42:13.243408Z",
     "iopub.status.busy": "2023-07-26T20:42:13.243060Z",
     "iopub.status.idle": "2023-07-26T20:42:13.254703Z",
     "shell.execute_reply": "2023-07-26T20:42:13.253797Z"
    },
    "papermill": {
     "duration": 0.027426,
     "end_time": "2023-07-26T20:42:13.256811",
     "exception": false,
     "start_time": "2023-07-26T20:42:13.229385",
     "status": "completed"
    },
    "tags": []
   },
   "outputs": [],
   "source": [
    "# Splitting the dataset into train and test groups\n",
    "x_train, x_test, y_train, y_test = train_test_split(x,ylabels, test_size = 0.153, random_state = 53)"
   ]
  },
  {
   "cell_type": "code",
   "execution_count": 34,
   "id": "68f8cac7",
   "metadata": {
    "execution": {
     "iopub.execute_input": "2023-07-26T20:42:13.283453Z",
     "iopub.status.busy": "2023-07-26T20:42:13.282478Z",
     "iopub.status.idle": "2023-07-26T20:42:13.311069Z",
     "shell.execute_reply": "2023-07-26T20:42:13.309878Z"
    },
    "papermill": {
     "duration": 0.04386,
     "end_time": "2023-07-26T20:42:13.312958",
     "exception": false,
     "start_time": "2023-07-26T20:42:13.269098",
     "status": "completed"
    },
    "tags": []
   },
   "outputs": [
    {
     "data": {
      "text/html": [
       "<style>#sk-container-id-1 {color: black;background-color: white;}#sk-container-id-1 pre{padding: 0;}#sk-container-id-1 div.sk-toggleable {background-color: white;}#sk-container-id-1 label.sk-toggleable__label {cursor: pointer;display: block;width: 100%;margin-bottom: 0;padding: 0.3em;box-sizing: border-box;text-align: center;}#sk-container-id-1 label.sk-toggleable__label-arrow:before {content: \"▸\";float: left;margin-right: 0.25em;color: #696969;}#sk-container-id-1 label.sk-toggleable__label-arrow:hover:before {color: black;}#sk-container-id-1 div.sk-estimator:hover label.sk-toggleable__label-arrow:before {color: black;}#sk-container-id-1 div.sk-toggleable__content {max-height: 0;max-width: 0;overflow: hidden;text-align: left;background-color: #f0f8ff;}#sk-container-id-1 div.sk-toggleable__content pre {margin: 0.2em;color: black;border-radius: 0.25em;background-color: #f0f8ff;}#sk-container-id-1 input.sk-toggleable__control:checked~div.sk-toggleable__content {max-height: 200px;max-width: 100%;overflow: auto;}#sk-container-id-1 input.sk-toggleable__control:checked~label.sk-toggleable__label-arrow:before {content: \"▾\";}#sk-container-id-1 div.sk-estimator input.sk-toggleable__control:checked~label.sk-toggleable__label {background-color: #d4ebff;}#sk-container-id-1 div.sk-label input.sk-toggleable__control:checked~label.sk-toggleable__label {background-color: #d4ebff;}#sk-container-id-1 input.sk-hidden--visually {border: 0;clip: rect(1px 1px 1px 1px);clip: rect(1px, 1px, 1px, 1px);height: 1px;margin: -1px;overflow: hidden;padding: 0;position: absolute;width: 1px;}#sk-container-id-1 div.sk-estimator {font-family: monospace;background-color: #f0f8ff;border: 1px dotted black;border-radius: 0.25em;box-sizing: border-box;margin-bottom: 0.5em;}#sk-container-id-1 div.sk-estimator:hover {background-color: #d4ebff;}#sk-container-id-1 div.sk-parallel-item::after {content: \"\";width: 100%;border-bottom: 1px solid gray;flex-grow: 1;}#sk-container-id-1 div.sk-label:hover label.sk-toggleable__label {background-color: #d4ebff;}#sk-container-id-1 div.sk-serial::before {content: \"\";position: absolute;border-left: 1px solid gray;box-sizing: border-box;top: 0;bottom: 0;left: 50%;z-index: 0;}#sk-container-id-1 div.sk-serial {display: flex;flex-direction: column;align-items: center;background-color: white;padding-right: 0.2em;padding-left: 0.2em;position: relative;}#sk-container-id-1 div.sk-item {position: relative;z-index: 1;}#sk-container-id-1 div.sk-parallel {display: flex;align-items: stretch;justify-content: center;background-color: white;position: relative;}#sk-container-id-1 div.sk-item::before, #sk-container-id-1 div.sk-parallel-item::before {content: \"\";position: absolute;border-left: 1px solid gray;box-sizing: border-box;top: 0;bottom: 0;left: 50%;z-index: -1;}#sk-container-id-1 div.sk-parallel-item {display: flex;flex-direction: column;z-index: 1;position: relative;background-color: white;}#sk-container-id-1 div.sk-parallel-item:first-child::after {align-self: flex-end;width: 50%;}#sk-container-id-1 div.sk-parallel-item:last-child::after {align-self: flex-start;width: 50%;}#sk-container-id-1 div.sk-parallel-item:only-child::after {width: 0;}#sk-container-id-1 div.sk-dashed-wrapped {border: 1px dashed gray;margin: 0 0.4em 0.5em 0.4em;box-sizing: border-box;padding-bottom: 0.4em;background-color: white;}#sk-container-id-1 div.sk-label label {font-family: monospace;font-weight: bold;display: inline-block;line-height: 1.2em;}#sk-container-id-1 div.sk-label-container {text-align: center;}#sk-container-id-1 div.sk-container {/* jupyter's `normalize.less` sets `[hidden] { display: none; }` but bootstrap.min.css set `[hidden] { display: none !important; }` so we also need the `!important` here to be able to override the default hidden behavior on the sphinx rendered scikit-learn.org. See: https://github.com/scikit-learn/scikit-learn/issues/21755 */display: inline-block !important;position: relative;}#sk-container-id-1 div.sk-text-repr-fallback {display: none;}</style><div id=\"sk-container-id-1\" class=\"sk-top-container\"><div class=\"sk-text-repr-fallback\"><pre>MultinomialNB()</pre><b>In a Jupyter environment, please rerun this cell to show the HTML representation or trust the notebook. <br />On GitHub, the HTML representation is unable to render, please try loading this page with nbviewer.org.</b></div><div class=\"sk-container\" hidden><div class=\"sk-item\"><div class=\"sk-estimator sk-toggleable\"><input class=\"sk-toggleable__control sk-hidden--visually\" id=\"sk-estimator-id-1\" type=\"checkbox\" checked><label for=\"sk-estimator-id-1\" class=\"sk-toggleable__label sk-toggleable__label-arrow\">MultinomialNB</label><div class=\"sk-toggleable__content\"><pre>MultinomialNB()</pre></div></div></div></div></div>"
      ],
      "text/plain": [
       "MultinomialNB()"
      ]
     },
     "execution_count": 34,
     "metadata": {},
     "output_type": "execute_result"
    }
   ],
   "source": [
    "# Building model\n",
    "nb_model = MultinomialNB()\n",
    "nb_model.fit(x_train, y_train)"
   ]
  },
  {
   "cell_type": "code",
   "execution_count": 35,
   "id": "1c62328c",
   "metadata": {
    "execution": {
     "iopub.execute_input": "2023-07-26T20:42:13.339466Z",
     "iopub.status.busy": "2023-07-26T20:42:13.339138Z",
     "iopub.status.idle": "2023-07-26T20:42:13.349587Z",
     "shell.execute_reply": "2023-07-26T20:42:13.348599Z"
    },
    "papermill": {
     "duration": 0.025867,
     "end_time": "2023-07-26T20:42:13.351360",
     "exception": false,
     "start_time": "2023-07-26T20:42:13.325493",
     "status": "completed"
    },
    "tags": []
   },
   "outputs": [
    {
     "data": {
      "text/plain": [
       "0.844662462041579"
      ]
     },
     "execution_count": 35,
     "metadata": {},
     "output_type": "execute_result"
    }
   ],
   "source": [
    "# Testing accuracy\n",
    "nb_model.score(x_test, y_test)"
   ]
  },
  {
   "cell_type": "code",
   "execution_count": 36,
   "id": "da96d2a7",
   "metadata": {
    "execution": {
     "iopub.execute_input": "2023-07-26T20:42:13.377853Z",
     "iopub.status.busy": "2023-07-26T20:42:13.377521Z",
     "iopub.status.idle": "2023-07-26T20:42:13.384076Z",
     "shell.execute_reply": "2023-07-26T20:42:13.383207Z"
    },
    "papermill": {
     "duration": 0.021944,
     "end_time": "2023-07-26T20:42:13.385865",
     "exception": false,
     "start_time": "2023-07-26T20:42:13.363921",
     "status": "completed"
    },
    "tags": []
   },
   "outputs": [],
   "source": [
    "# Predictions\n",
    "y_predict = nb_model.predict(x_test)"
   ]
  },
  {
   "cell_type": "code",
   "execution_count": 37,
   "id": "c7220813",
   "metadata": {
    "execution": {
     "iopub.execute_input": "2023-07-26T20:42:13.411868Z",
     "iopub.status.busy": "2023-07-26T20:42:13.411551Z",
     "iopub.status.idle": "2023-07-26T20:42:13.421864Z",
     "shell.execute_reply": "2023-07-26T20:42:13.421004Z"
    },
    "papermill": {
     "duration": 0.025739,
     "end_time": "2023-07-26T20:42:13.423990",
     "exception": false,
     "start_time": "2023-07-26T20:42:13.398251",
     "status": "completed"
    },
    "tags": []
   },
   "outputs": [
    {
     "data": {
      "text/plain": [
       "array([0, 1])"
      ]
     },
     "execution_count": 37,
     "metadata": {},
     "output_type": "execute_result"
    }
   ],
   "source": [
    "#Testing model\n",
    "sample_text=[\"I love coding\"]\n",
    "vector = cv.transform(sample_text).toarray()\n",
    "# Making nb model \n",
    "nb_model.predict(vector)\n",
    "nb_model.predict_proba(vector)\n",
    "nb_model.classes_"
   ]
  },
  {
   "cell_type": "code",
   "execution_count": 38,
   "id": "3968f8b4",
   "metadata": {
    "execution": {
     "iopub.execute_input": "2023-07-26T20:42:13.451750Z",
     "iopub.status.busy": "2023-07-26T20:42:13.451418Z",
     "iopub.status.idle": "2023-07-26T20:42:13.456980Z",
     "shell.execute_reply": "2023-07-26T20:42:13.456152Z"
    },
    "papermill": {
     "duration": 0.021839,
     "end_time": "2023-07-26T20:42:13.459203",
     "exception": false,
     "start_time": "2023-07-26T20:42:13.437364",
     "status": "completed"
    },
    "tags": []
   },
   "outputs": [
    {
     "data": {
      "text/plain": [
       "0.7162933838787543"
      ]
     },
     "execution_count": 38,
     "metadata": {},
     "output_type": "execute_result"
    }
   ],
   "source": [
    "# Confidence in the result\n",
    "np.max(nb_model.predict_proba(vector))"
   ]
  },
  {
   "cell_type": "code",
   "execution_count": 39,
   "id": "8749cf26",
   "metadata": {
    "execution": {
     "iopub.execute_input": "2023-07-26T20:42:13.486657Z",
     "iopub.status.busy": "2023-07-26T20:42:13.486112Z",
     "iopub.status.idle": "2023-07-26T20:42:13.489992Z",
     "shell.execute_reply": "2023-07-26T20:42:13.488982Z"
    },
    "papermill": {
     "duration": 0.019199,
     "end_time": "2023-07-26T20:42:13.491621",
     "exception": false,
     "start_time": "2023-07-26T20:42:13.472422",
     "status": "completed"
    },
    "tags": []
   },
   "outputs": [],
   "source": [
    "# Packages for logistic regression\n",
    "import numpy as np\n",
    "from sklearn.linear_model import LogisticRegression"
   ]
  },
  {
   "cell_type": "code",
   "execution_count": 40,
   "id": "cd271d76",
   "metadata": {
    "execution": {
     "iopub.execute_input": "2023-07-26T20:42:13.518879Z",
     "iopub.status.busy": "2023-07-26T20:42:13.518449Z",
     "iopub.status.idle": "2023-07-26T20:42:13.530891Z",
     "shell.execute_reply": "2023-07-26T20:42:13.529979Z"
    },
    "papermill": {
     "duration": 0.029445,
     "end_time": "2023-07-26T20:42:13.533714",
     "exception": false,
     "start_time": "2023-07-26T20:42:13.504269",
     "status": "completed"
    },
    "tags": []
   },
   "outputs": [],
   "source": [
    "# Splitting the dataset into test and train\n",
    "x_train, x_test, y_train, y_test = train_test_split(x,ylabels, test_size = 0.148, random_state =30 )"
   ]
  },
  {
   "cell_type": "code",
   "execution_count": 41,
   "id": "5d768e73",
   "metadata": {
    "execution": {
     "iopub.execute_input": "2023-07-26T20:42:13.561455Z",
     "iopub.status.busy": "2023-07-26T20:42:13.561087Z",
     "iopub.status.idle": "2023-07-26T20:42:13.566077Z",
     "shell.execute_reply": "2023-07-26T20:42:13.565041Z"
    },
    "papermill": {
     "duration": 0.020944,
     "end_time": "2023-07-26T20:42:13.567884",
     "exception": false,
     "start_time": "2023-07-26T20:42:13.546940",
     "status": "completed"
    },
    "tags": []
   },
   "outputs": [],
   "source": [
    "#Logistic Regression \n",
    "\n",
    "def predict_classification(sample_text, model):\n",
    "  vector = cv.transform(sample_text).toarray()   # Transforming our text data into vectors\n",
    "  prediction = model.predict(vector)             # Puttting data in model\n",
    "  pred_proba = model.predict_proba(vector)       # Confidence of prediction\n",
    "  pred_percent = dict(zip(model.classes_, pred_proba[0]))\n",
    "  print(prediction)\n",
    "  return pred_percent"
   ]
  },
  {
   "cell_type": "code",
   "execution_count": 42,
   "id": "f6d0264c",
   "metadata": {
    "execution": {
     "iopub.execute_input": "2023-07-26T20:42:13.596311Z",
     "iopub.status.busy": "2023-07-26T20:42:13.595760Z",
     "iopub.status.idle": "2023-07-26T20:42:20.384725Z",
     "shell.execute_reply": "2023-07-26T20:42:20.383988Z"
    },
    "papermill": {
     "duration": 6.805405,
     "end_time": "2023-07-26T20:42:20.386825",
     "exception": false,
     "start_time": "2023-07-26T20:42:13.581420",
     "status": "completed"
    },
    "tags": []
   },
   "outputs": [
    {
     "name": "stderr",
     "output_type": "stream",
     "text": [
      "/opt/conda/lib/python3.10/site-packages/sklearn/linear_model/_logistic.py:458: ConvergenceWarning: lbfgs failed to converge (status=1):\n",
      "STOP: TOTAL NO. of ITERATIONS REACHED LIMIT.\n",
      "\n",
      "Increase the number of iterations (max_iter) or scale the data as shown in:\n",
      "    https://scikit-learn.org/stable/modules/preprocessing.html\n",
      "Please also refer to the documentation for alternative solver options:\n",
      "    https://scikit-learn.org/stable/modules/linear_model.html#logistic-regression\n",
      "  n_iter_i = _check_optimize_result(\n"
     ]
    },
    {
     "data": {
      "text/html": [
       "<style>#sk-container-id-2 {color: black;background-color: white;}#sk-container-id-2 pre{padding: 0;}#sk-container-id-2 div.sk-toggleable {background-color: white;}#sk-container-id-2 label.sk-toggleable__label {cursor: pointer;display: block;width: 100%;margin-bottom: 0;padding: 0.3em;box-sizing: border-box;text-align: center;}#sk-container-id-2 label.sk-toggleable__label-arrow:before {content: \"▸\";float: left;margin-right: 0.25em;color: #696969;}#sk-container-id-2 label.sk-toggleable__label-arrow:hover:before {color: black;}#sk-container-id-2 div.sk-estimator:hover label.sk-toggleable__label-arrow:before {color: black;}#sk-container-id-2 div.sk-toggleable__content {max-height: 0;max-width: 0;overflow: hidden;text-align: left;background-color: #f0f8ff;}#sk-container-id-2 div.sk-toggleable__content pre {margin: 0.2em;color: black;border-radius: 0.25em;background-color: #f0f8ff;}#sk-container-id-2 input.sk-toggleable__control:checked~div.sk-toggleable__content {max-height: 200px;max-width: 100%;overflow: auto;}#sk-container-id-2 input.sk-toggleable__control:checked~label.sk-toggleable__label-arrow:before {content: \"▾\";}#sk-container-id-2 div.sk-estimator input.sk-toggleable__control:checked~label.sk-toggleable__label {background-color: #d4ebff;}#sk-container-id-2 div.sk-label input.sk-toggleable__control:checked~label.sk-toggleable__label {background-color: #d4ebff;}#sk-container-id-2 input.sk-hidden--visually {border: 0;clip: rect(1px 1px 1px 1px);clip: rect(1px, 1px, 1px, 1px);height: 1px;margin: -1px;overflow: hidden;padding: 0;position: absolute;width: 1px;}#sk-container-id-2 div.sk-estimator {font-family: monospace;background-color: #f0f8ff;border: 1px dotted black;border-radius: 0.25em;box-sizing: border-box;margin-bottom: 0.5em;}#sk-container-id-2 div.sk-estimator:hover {background-color: #d4ebff;}#sk-container-id-2 div.sk-parallel-item::after {content: \"\";width: 100%;border-bottom: 1px solid gray;flex-grow: 1;}#sk-container-id-2 div.sk-label:hover label.sk-toggleable__label {background-color: #d4ebff;}#sk-container-id-2 div.sk-serial::before {content: \"\";position: absolute;border-left: 1px solid gray;box-sizing: border-box;top: 0;bottom: 0;left: 50%;z-index: 0;}#sk-container-id-2 div.sk-serial {display: flex;flex-direction: column;align-items: center;background-color: white;padding-right: 0.2em;padding-left: 0.2em;position: relative;}#sk-container-id-2 div.sk-item {position: relative;z-index: 1;}#sk-container-id-2 div.sk-parallel {display: flex;align-items: stretch;justify-content: center;background-color: white;position: relative;}#sk-container-id-2 div.sk-item::before, #sk-container-id-2 div.sk-parallel-item::before {content: \"\";position: absolute;border-left: 1px solid gray;box-sizing: border-box;top: 0;bottom: 0;left: 50%;z-index: -1;}#sk-container-id-2 div.sk-parallel-item {display: flex;flex-direction: column;z-index: 1;position: relative;background-color: white;}#sk-container-id-2 div.sk-parallel-item:first-child::after {align-self: flex-end;width: 50%;}#sk-container-id-2 div.sk-parallel-item:last-child::after {align-self: flex-start;width: 50%;}#sk-container-id-2 div.sk-parallel-item:only-child::after {width: 0;}#sk-container-id-2 div.sk-dashed-wrapped {border: 1px dashed gray;margin: 0 0.4em 0.5em 0.4em;box-sizing: border-box;padding-bottom: 0.4em;background-color: white;}#sk-container-id-2 div.sk-label label {font-family: monospace;font-weight: bold;display: inline-block;line-height: 1.2em;}#sk-container-id-2 div.sk-label-container {text-align: center;}#sk-container-id-2 div.sk-container {/* jupyter's `normalize.less` sets `[hidden] { display: none; }` but bootstrap.min.css set `[hidden] { display: none !important; }` so we also need the `!important` here to be able to override the default hidden behavior on the sphinx rendered scikit-learn.org. See: https://github.com/scikit-learn/scikit-learn/issues/21755 */display: inline-block !important;position: relative;}#sk-container-id-2 div.sk-text-repr-fallback {display: none;}</style><div id=\"sk-container-id-2\" class=\"sk-top-container\"><div class=\"sk-text-repr-fallback\"><pre>LogisticRegression(multi_class=&#x27;multinomial&#x27;)</pre><b>In a Jupyter environment, please rerun this cell to show the HTML representation or trust the notebook. <br />On GitHub, the HTML representation is unable to render, please try loading this page with nbviewer.org.</b></div><div class=\"sk-container\" hidden><div class=\"sk-item\"><div class=\"sk-estimator sk-toggleable\"><input class=\"sk-toggleable__control sk-hidden--visually\" id=\"sk-estimator-id-2\" type=\"checkbox\" checked><label for=\"sk-estimator-id-2\" class=\"sk-toggleable__label sk-toggleable__label-arrow\">LogisticRegression</label><div class=\"sk-toggleable__content\"><pre>LogisticRegression(multi_class=&#x27;multinomial&#x27;)</pre></div></div></div></div></div>"
      ],
      "text/plain": [
       "LogisticRegression(multi_class='multinomial')"
      ]
     },
     "execution_count": 42,
     "metadata": {},
     "output_type": "execute_result"
    }
   ],
   "source": [
    "# Making logistic Regression model\n",
    "lr_model = LogisticRegression(multi_class= \"multinomial\")\n",
    "lr_model.fit(x_train,y_train)\n"
   ]
  },
  {
   "cell_type": "code",
   "execution_count": 43,
   "id": "27aaba10",
   "metadata": {
    "execution": {
     "iopub.execute_input": "2023-07-26T20:42:20.445991Z",
     "iopub.status.busy": "2023-07-26T20:42:20.445631Z",
     "iopub.status.idle": "2023-07-26T20:42:20.453931Z",
     "shell.execute_reply": "2023-07-26T20:42:20.453205Z"
    },
    "papermill": {
     "duration": 0.046151,
     "end_time": "2023-07-26T20:42:20.458516",
     "exception": false,
     "start_time": "2023-07-26T20:42:20.412365",
     "status": "completed"
    },
    "tags": []
   },
   "outputs": [
    {
     "data": {
      "text/plain": [
       "0.9169282781936731"
      ]
     },
     "execution_count": 43,
     "metadata": {},
     "output_type": "execute_result"
    }
   ],
   "source": [
    "# Testing accuracy\n",
    "lr_model.score(x_test, y_test)"
   ]
  },
  {
   "cell_type": "code",
   "execution_count": 44,
   "id": "262a242d",
   "metadata": {
    "execution": {
     "iopub.execute_input": "2023-07-26T20:42:20.487045Z",
     "iopub.status.busy": "2023-07-26T20:42:20.486651Z",
     "iopub.status.idle": "2023-07-26T20:42:20.494157Z",
     "shell.execute_reply": "2023-07-26T20:42:20.493456Z"
    },
    "papermill": {
     "duration": 0.025875,
     "end_time": "2023-07-26T20:42:20.498339",
     "exception": false,
     "start_time": "2023-07-26T20:42:20.472464",
     "status": "completed"
    },
    "tags": []
   },
   "outputs": [
    {
     "data": {
      "text/plain": [
       "array([0, 1])"
      ]
     },
     "execution_count": 44,
     "metadata": {},
     "output_type": "execute_result"
    }
   ],
   "source": [
    "sample_text=[\"im done trying feel better the reason im still alive know mum devastated ever killed myself ever passes im still state im going hesitate ending life shortly after im almost  take meds go therapy nothing seems help enough dont want around anymore hate feeling like this wouldnt wish upon enemy brain feels like constantly like static tv wont shut overthinking do think im running options dont see living past  got accepted health science degree dont even know wanna try know im smart mental illness holds back think cant anything im good enough need fucking help dont know anymore ive run options\"]\n",
    "vector = cv.transform(sample_text).toarray()\n",
    "lr_model.predict(vector)\n",
    "lr_model.predict_proba(vector)\n",
    "lr_model.classes_"
   ]
  },
  {
   "cell_type": "code",
   "execution_count": 45,
   "id": "7f90a1ae",
   "metadata": {
    "execution": {
     "iopub.execute_input": "2023-07-26T20:42:20.534583Z",
     "iopub.status.busy": "2023-07-26T20:42:20.534234Z",
     "iopub.status.idle": "2023-07-26T20:42:20.541397Z",
     "shell.execute_reply": "2023-07-26T20:42:20.540709Z"
    },
    "papermill": {
     "duration": 0.030929,
     "end_time": "2023-07-26T20:42:20.546772",
     "exception": false,
     "start_time": "2023-07-26T20:42:20.515843",
     "status": "completed"
    },
    "tags": []
   },
   "outputs": [
    {
     "name": "stdout",
     "output_type": "stream",
     "text": [
      "[1]\n"
     ]
    },
    {
     "data": {
      "text/plain": [
       "{0: 1.92164992588853e-06, 1: 0.999998078350074}"
      ]
     },
     "execution_count": 45,
     "metadata": {},
     "output_type": "execute_result"
    }
   ],
   "source": [
    "predict_classification(sample_text, lr_model)"
   ]
  },
  {
   "cell_type": "markdown",
   "id": "0585d482",
   "metadata": {
    "papermill": {
     "duration": 0.01762,
     "end_time": "2023-07-26T20:42:20.582075",
     "exception": false,
     "start_time": "2023-07-26T20:42:20.564455",
     "status": "completed"
    },
    "tags": []
   },
   "source": [
    "\n",
    "**Results and Conclusion:**\n",
    "\n",
    "Sentiment analysis revealed that among responses that indicate poor mental health, positive, negative, and neutral sentiments were present, with a slight majority being negative. Among responses that indicate normal mental health, the majority were positive. Our Naive Bayes predictive model achieved an accuracy of 84.5%. Our logistic regression model achieved an accuracy of 91.7%. Both models were successful in predicting mental health quality with solely subreddit data, which proves that mental health illnesses can be identified early without official interaction with a doctor or psychologist. This model can also be applied to other social media platforms where people express their thoughts an emotions. To improve this model, the subreddit responses could be categorized by the type of mental illness indicated in order to provide specialized help. \n",
    "\n",
    "**Acknowledgements:**\n",
    "\n",
    "Dataset: https://www.kaggle.com/datasets/reihanenamdari/mental-health-corpus \n",
    "\n",
    "Contributors: Sophie Lawrence, Ria Trivedi, Ashley Victor (mentor)"
   ]
  }
 ],
 "metadata": {
  "kernelspec": {
   "display_name": "Python 3",
   "language": "python",
   "name": "python3"
  },
  "language_info": {
   "codemirror_mode": {
    "name": "ipython",
    "version": 3
   },
   "file_extension": ".py",
   "mimetype": "text/x-python",
   "name": "python",
   "nbconvert_exporter": "python",
   "pygments_lexer": "ipython3",
   "version": "3.10.12"
  },
  "papermill": {
   "default_parameters": {},
   "duration": 48.620441,
   "end_time": "2023-07-26T20:42:21.922558",
   "environment_variables": {},
   "exception": null,
   "input_path": "__notebook__.ipynb",
   "output_path": "__notebook__.ipynb",
   "parameters": {},
   "start_time": "2023-07-26T20:41:33.302117",
   "version": "2.4.0"
  }
 },
 "nbformat": 4,
 "nbformat_minor": 5
}
